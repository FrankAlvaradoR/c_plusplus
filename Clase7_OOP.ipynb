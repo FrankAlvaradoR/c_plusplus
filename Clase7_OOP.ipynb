{
  "nbformat": 4,
  "nbformat_minor": 0,
  "metadata": {
    "colab": {
      "provenance": [],
      "authorship_tag": "ABX9TyPzdP7q/10qf6bt5+YtazHC",
      "include_colab_link": true
    },
    "kernelspec": {
      "name": "python3",
      "display_name": "Python 3"
    },
    "language_info": {
      "name": "python"
    }
  },
  "cells": [
    {
      "cell_type": "markdown",
      "metadata": {
        "id": "view-in-github",
        "colab_type": "text"
      },
      "source": [
        "<a href=\"https://colab.research.google.com/github/FrankAlvaradoR/c_plusplus/blob/main/Clase7_OOP.ipynb\" target=\"_parent\"><img src=\"https://colab.research.google.com/assets/colab-badge.svg\" alt=\"Open In Colab\"/></a>"
      ]
    },
    {
      "cell_type": "markdown",
      "source": [
        "\n",
        "Ejemplo 1\n"
      ],
      "metadata": {
        "id": "w_onLFHzPy5u"
      }
    },
    {
      "cell_type": "code",
      "execution_count": null,
      "metadata": {
        "colab": {
          "base_uri": "https://localhost:8080/"
        },
        "id": "t5DsGTLjMq7-",
        "outputId": "8931b741-b69b-4314-e331-e40bacf1d5f8"
      },
      "outputs": [
        {
          "output_type": "stream",
          "name": "stdout",
          "text": [
            "Coche 1: Mercedes \n",
            "Coche 2: BMW\n"
          ]
        }
      ],
      "source": [
        "class Car:\n",
        "  def __init__(self,brand):\n",
        "    self.brand = brand\n",
        "\n",
        "def main():\n",
        "  car1= Car(\"Mercedes\")\n",
        "  car2= Car(\"BMW\")\n",
        "  print(\"Coche 1:\",car1.brand,\"\\nCoche 2:\",car2.brand,sep=\" \")\n",
        "\n",
        "if __name__==\"__main__\":\n",
        "  main()\n"
      ]
    },
    {
      "cell_type": "markdown",
      "source": [
        "Ejemplo 2"
      ],
      "metadata": {
        "id": "2EdmN690P1Eo"
      }
    },
    {
      "cell_type": "code",
      "source": [
        "class Animal:\n",
        "# variable de clase que se inicializa cuando se importa el modulo animal\n",
        "  numAnimales = 0\n",
        "  def __init__(self, age = \"1\", name = \"dog\"):\n",
        "    self.age = age # public attribute\n",
        "    self.name = name # public attribute\n",
        "    self.vivo = True\n",
        "    Animal.numAnimales +=1\n",
        "  def saluda(self, saludo='Hola', receptor = 'nuevo amigo'):\n",
        "    print(saludo)\n",
        "  def mostrarNombre(self):\n",
        "    print(self.age)\n",
        "  def mostrarEdad(self):\n",
        "    print(self.name)\n",
        "  def morir(self):\n",
        "    if(self.vivo):\n",
        "      self.vivo = False\n",
        "      Animal.numAnimales -=1\n",
        "      "
      ],
      "metadata": {
        "id": "I_DYUs76Px2N"
      },
      "execution_count": 7,
      "outputs": []
    },
    {
      "cell_type": "code",
      "source": [],
      "metadata": {
        "id": "gWEFbpTRfOYM"
      },
      "execution_count": null,
      "outputs": []
    },
    {
      "cell_type": "markdown",
      "source": [
        "Ejemplo 3"
      ],
      "metadata": {
        "id": "DwZo0ShFSBlQ"
      }
    },
    {
      "cell_type": "code",
      "source": [
        "class Math:\n",
        "  @staticmethod\n",
        "  def cuadrado(i):\n",
        "    return i*i\n",
        "  @staticmethod\n",
        "  def mitad(i):\n",
        "    return i/2\n"
      ],
      "metadata": {
        "id": "wAqVhPWFSC99"
      },
      "execution_count": null,
      "outputs": []
    },
    {
      "cell_type": "code",
      "source": [
        "print(Math.cuadrado(5))"
      ],
      "metadata": {
        "colab": {
          "base_uri": "https://localhost:8080/"
        },
        "id": "OsFPwaXeSWz6",
        "outputId": "f10a7f85-95ec-462b-a8db-57eba359d468"
      },
      "execution_count": null,
      "outputs": [
        {
          "output_type": "stream",
          "name": "stdout",
          "text": [
            "25\n"
          ]
        }
      ]
    },
    {
      "cell_type": "markdown",
      "source": [
        "Ejemplo 4"
      ],
      "metadata": {
        "id": "AUvyNLrrSrDc"
      }
    },
    {
      "cell_type": "code",
      "source": [
        "class Animal:\n",
        "# variable de clase que se inicializa cuando se importa el modulo animal\n",
        "  numAnimales = 0\n",
        "  def __init__(self, age = \"1\", name = \"dog\"):\n",
        "    self.age = age # public attribute\n",
        "    self.name = name # public attribute\n",
        "    self.vivo = True\n",
        "    Animal.numAnimales +=1\n",
        "  def saluda(self, saludo='Hola', receptor = 'nuevo amigo'):\n",
        "    print(saludo)\n",
        "  def mostrarNombre(self):\n",
        "    print(self.age)\n",
        "  def mostrarEdad(self):\n",
        "    print(self.name)\n",
        "  def morir(self):\n",
        "    if(self.vivo):\n",
        "      self.vivo = False\n",
        "      Animal.numAnimales -=1\n",
        "\n",
        "  @staticmethod\n",
        "  def get_numAnimales():\n",
        "    return Animal.numAnimales"
      ],
      "metadata": {
        "id": "j2QjSgYJSqWW"
      },
      "execution_count": 2,
      "outputs": []
    },
    {
      "cell_type": "code",
      "source": [
        "def main():\n",
        "  perro=Animal(1,\"perro1\")\n",
        "  perro2=Animal(1,\"perro2\")\n",
        "  print(perro.get_numAnimales())\n",
        "\n",
        "if __name__==\"__main__\":\n",
        "  main()\n",
        "\n"
      ],
      "metadata": {
        "colab": {
          "base_uri": "https://localhost:8080/"
        },
        "id": "7DtWclX1TdPx",
        "outputId": "b48707b0-c48d-4055-bd13-d5ca7832195f"
      },
      "execution_count": 4,
      "outputs": [
        {
          "output_type": "stream",
          "name": "stdout",
          "text": [
            "4\n"
          ]
        }
      ]
    },
    {
      "cell_type": "markdown",
      "source": [
        "Ejemplo 5"
      ],
      "metadata": {
        "id": "i8DwhCtJW44e"
      }
    },
    {
      "cell_type": "code",
      "source": [
        "class Animal:\n",
        "# variable de clase que se inicializa cuando se importa el modulo animal\n",
        "# Esta variable podra ser accedida y modificada desde todas las instancias\n",
        "  numAnimales = 0\n",
        "  def __init__(self, age = \"0\", name = \"\"):\n",
        "    ''' Constructor del un animal, definimos los parametros por default\n",
        "    parámetro edad por default sera \"0\"\n",
        "    parámetro nombre por defuault sera \"\" '''\n",
        "    self.age = age # public attribute\n",
        "    self.name = name # public attribute\n",
        "    self.vivo = True\n",
        "    Animal.numAnimales +=1\n",
        "\n",
        "  #Metodos para acceder a los atributos de la clase.\n",
        "  def set_age(self,age):\n",
        "    self.age =age\n",
        "  def get_age(self):\n",
        "    return self.age\n",
        "  def set_name(self, name):\n",
        "    self.name = name\n",
        "  def get_name(self):\n",
        "    return self.name\n",
        "  def setVivo(self, vivo):\n",
        "    self.vivo = vivo \n",
        "  def isVivo(self):\n",
        "    return self.vivo\n",
        "\n",
        "  #Metodos de la clase que se pueden heredar a todas las instancias\n",
        "  def saluda(self, saludo='Hola soy ', receptor = 'nuevo amigo'):\n",
        "    print(saludo + self.name)\n",
        "  def mostrarNombre(self):\n",
        "    print(self.name)\n",
        "  def mostrarEdad(self):\n",
        "    print(self.age)\n",
        "  def morir(self):\n",
        "    if(self.vivo):\n",
        "      self.vivo = False\n",
        "      Animal.numAnimales -=1\n",
        "\n",
        "  ''' Sobre escribir con el método de igualdad de dos instancias de animal\n",
        "  se considerara que es el mismo animal si tiene el mismo nombre '''\n",
        "  def __eq__(self, other):\n",
        "    if other == None:\n",
        "      return False\n",
        "    if isinstance(other, Animal):\n",
        "      if (self.get_name() == other.get_name()):\n",
        "        return True\n",
        "      return False\n",
        "\n",
        "  def __str__(self):\n",
        "    if(self.vivo == False):\n",
        "        return \"Soy \" + self.name + \" y tenia \" + str(self.age) + \" years cuando fallecí\"\n",
        "    else: \n",
        "        return \"Soy \" + self.name + \" y tengo \" + str(self.age) + \" years. ¡La vida pueda ser maravillosa!\"\n",
        "\n",
        "  #Los métodos estáticos obtienen información de la clase no de la inwstancia\n",
        "  @staticmethod\n",
        "  def get_numAnimales():\n",
        "    return Animal.numAnimales"
      ],
      "metadata": {
        "id": "PWRocPtVW7mM"
      },
      "execution_count": 9,
      "outputs": []
    },
    {
      "cell_type": "code",
      "source": [
        "def main():\n",
        "  perro=Animal(4,\"Manchas\")\n",
        "  perro1=Animal(4,\"Parches\")\n",
        "  perro2=Animal(4,\"Parches\")\n",
        "  print(perro.get_age())\n",
        "  perro.set_age(2)\n",
        "  print(perro.get_age())\n",
        "  print(perro.get_name())\n",
        "  perro.set_name(\"Firulais\")\n",
        "  print(perro.get_name())\n",
        "  print(perro.isVivo())\n",
        "\n",
        "  perro.saluda()\n",
        "  perro.mostrarNombre()\n",
        "  perro.mostrarEdad()\n",
        "\n",
        "  print(\"Numero de Animales = \" + str(perro.get_numAnimales()))\n",
        "\n",
        "  perro.morir()\n",
        "  print(\"Numero de Animales = \" + str(perro.get_numAnimales()))\n",
        "\n",
        "  print(perro == perro)\n",
        "  print(perro1 == perro)\n",
        "  print(perro1 == perro2)\n",
        "\n",
        "if __name__==\"__main__\":\n",
        "  main()\n"
      ],
      "metadata": {
        "colab": {
          "base_uri": "https://localhost:8080/"
        },
        "id": "7JXyWLRHdOFF",
        "outputId": "2cd917d0-1557-4544-cdd0-ef666ed340c4"
      },
      "execution_count": 6,
      "outputs": [
        {
          "output_type": "stream",
          "name": "stdout",
          "text": [
            "4\n",
            "2\n",
            "Manchas\n",
            "Firulais\n",
            "True\n",
            "Hola soy Firulais\n",
            "Firulais\n",
            "2\n",
            "Numero de Animales = 3\n",
            "Numero de Animales = 2\n",
            "True\n",
            "False\n",
            "True\n"
          ]
        }
      ]
    },
    {
      "cell_type": "markdown",
      "source": [
        "#Herencia Simple\n",
        "Ejemplo 6\n",
        "\n",
        "Si un método no hace lo que nosotros queríamos poodemos sobrescribirlo (overriding). Bastará para ello que definamos un método con el mismo nombre y argumentos."
      ],
      "metadata": {
        "id": "3CB0G1sqlCqj"
      }
    },
    {
      "cell_type": "code",
      "source": [
        "class Perro(Animal):\n",
        "  '''\n",
        "  Esta clase hereda todos los atributos y métodos de la clase Animal\n",
        "  '''\n",
        "  def __init__(self, age = \"0\", name = \"Toby\", pastor = True): \n",
        "    #Llamada al método de la clase padre\n",
        "    # super().__init__(self, age, name)\n",
        "    Animal.__init__(self, age, name)\n",
        "    #Nuevos atributos si los tuviese\n",
        "    super()\n",
        "    self.pastor = pastor\n",
        "\n",
        "  #Nuevos getters y setters, solo para los atributos de la clase hija\n",
        "  def set_pastor(self, pastor):\n",
        "    self.pastor = pastor\n",
        "  def is_pastor(self):\n",
        "    return self.pastor\n",
        "\n",
        "  #Overwritten method\n",
        "  # Now, it says guau by default instead of Hola\n",
        "  def saluda(self, saludo='Guau', receptor = 'nuevo amigo'): \n",
        "    print(saludo + \" \" + receptor)\n",
        "  \n",
        "  # An example of an inheritated static method\n",
        "  @staticmethod\n",
        "  def get_numAnimales():\n",
        "    print (\"Este método no tiene sentido aquí, ya que está definidoen la clase padre\") \n",
        "\n",
        "def main():\n",
        "# Aqui solo se definen las pruebas de la clase hija (perro), no de la clase padre (Animal)\n",
        " perro = Perro(\"Rayo\")\n",
        " #Como vemos, hereda el método __str__ de la clase Animal  print(perro)\n",
        " perro.saluda(receptor=\"Clase de BI\")\n",
        " perro.mostrarNombre()\n",
        "\n",
        "if __name__==\"__main__\":\n",
        " main()"
      ],
      "metadata": {
        "id": "DyYXFGjBl4jt",
        "outputId": "46323b8f-5b13-4838-c3e3-5ddf55845b53",
        "colab": {
          "base_uri": "https://localhost:8080/"
        }
      },
      "execution_count": 14,
      "outputs": [
        {
          "output_type": "stream",
          "name": "stdout",
          "text": [
            "Guau Clase de BI\n",
            "Toby\n"
          ]
        }
      ]
    },
    {
      "cell_type": "markdown",
      "source": [
        "Aquí se puede ver como ahora el perro se imprime de manera diferente y saluda de manera diferente a un animal. Sin embargo, al heredar todas las propiedades de la clase Animal, puede realizar todas las\n",
        "acciones sin tener que implementarlas de nuevo. \n",
        "\n",
        "\n",
        "Para sobreescribir un método que no hace lo que nosotros queríamos, podemos sobreescribirlo. Esto se hace mediante el polimorfismo de sustitución. Así, bastará para ello que definamos un método con el mismo nombre y los mismos argumentos que el método definido en la clase padre."
      ],
      "metadata": {
        "id": "fZhfxq_NobeC"
      }
    },
    {
      "cell_type": "code",
      "source": [],
      "metadata": {
        "id": "ko-Mzno-oojN"
      },
      "execution_count": null,
      "outputs": []
    },
    {
      "cell_type": "code",
      "source": [],
      "metadata": {
        "id": "FfKqTTAUoeOS"
      },
      "execution_count": null,
      "outputs": []
    }
  ]
}