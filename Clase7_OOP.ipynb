{
  "nbformat": 4,
  "nbformat_minor": 0,
  "metadata": {
    "colab": {
      "provenance": [],
      "authorship_tag": "ABX9TyM2nacDLuIRXnFyBm/NbJ1g",
      "include_colab_link": true
    },
    "kernelspec": {
      "name": "python3",
      "display_name": "Python 3"
    },
    "language_info": {
      "name": "python"
    }
  },
  "cells": [
    {
      "cell_type": "markdown",
      "metadata": {
        "id": "view-in-github",
        "colab_type": "text"
      },
      "source": [
        "<a href=\"https://colab.research.google.com/github/FrankAlvaradoR/c_plusplus/blob/main/Clase7_OOP.ipynb\" target=\"_parent\"><img src=\"https://colab.research.google.com/assets/colab-badge.svg\" alt=\"Open In Colab\"/></a>"
      ]
    },
    {
      "cell_type": "markdown",
      "source": [
        "\n",
        "Ejemplo 1\n"
      ],
      "metadata": {
        "id": "w_onLFHzPy5u"
      }
    },
    {
      "cell_type": "code",
      "execution_count": 2,
      "metadata": {
        "colab": {
          "base_uri": "https://localhost:8080/"
        },
        "id": "t5DsGTLjMq7-",
        "outputId": "8931b741-b69b-4314-e331-e40bacf1d5f8"
      },
      "outputs": [
        {
          "output_type": "stream",
          "name": "stdout",
          "text": [
            "Coche 1: Mercedes \n",
            "Coche 2: BMW\n"
          ]
        }
      ],
      "source": [
        "class Car:\n",
        "  def __init__(self,brand):\n",
        "    self.brand = brand\n",
        "\n",
        "def main():\n",
        "  car1= Car(\"Mercedes\")\n",
        "  car2= Car(\"BMW\")\n",
        "  print(\"Coche 1:\",car1.brand,\"\\nCoche 2:\",car2.brand,sep=\" \")\n",
        "\n",
        "if __name__==\"__main__\":\n",
        "  main()\n"
      ]
    },
    {
      "cell_type": "markdown",
      "source": [
        "Ejemplo 2"
      ],
      "metadata": {
        "id": "2EdmN690P1Eo"
      }
    },
    {
      "cell_type": "code",
      "source": [
        "class Animal:\n",
        "# variable de clase que se inicializa cuando se importa el modulo animal\n",
        "  numAnimales = 0\n",
        "  def __init__(self, age = \"1\", name = \"dog\"):\n",
        "    self.age = age # public attribute\n",
        "    self.name = name # public attribute\n",
        "    self.vivo = True\n",
        "    Animal.numAnimales +=1\n",
        "  def saluda(self, saludo='Hola', receptor = 'nuevo amigo'):\n",
        "    print(saludo)\n",
        "  def mostrarNombre(self):\n",
        "    print(self.age)\n",
        "  def mostrarEdad(self):\n",
        "    print(self.name)\n",
        "  def morir(self):\n",
        "    if(self.vivo):\n",
        "      self.vivo = False\n",
        "      Animal.numAnimales -=1\n",
        "      "
      ],
      "metadata": {
        "id": "I_DYUs76Px2N"
      },
      "execution_count": 3,
      "outputs": []
    },
    {
      "cell_type": "markdown",
      "source": [
        "Ejemplo 3"
      ],
      "metadata": {
        "id": "DwZo0ShFSBlQ"
      }
    },
    {
      "cell_type": "code",
      "source": [
        "class Math:\n",
        "  @staticmethod\n",
        "  def cuadrado(i):\n",
        "    return i*i\n",
        "  @staticmethod\n",
        "  def mitad(i):\n",
        "    return i/2\n"
      ],
      "metadata": {
        "id": "wAqVhPWFSC99"
      },
      "execution_count": 5,
      "outputs": []
    },
    {
      "cell_type": "code",
      "source": [
        "print(Math.cuadrado(5))"
      ],
      "metadata": {
        "colab": {
          "base_uri": "https://localhost:8080/"
        },
        "id": "OsFPwaXeSWz6",
        "outputId": "f10a7f85-95ec-462b-a8db-57eba359d468"
      },
      "execution_count": 6,
      "outputs": [
        {
          "output_type": "stream",
          "name": "stdout",
          "text": [
            "25\n"
          ]
        }
      ]
    },
    {
      "cell_type": "markdown",
      "source": [
        "Ejemplo 4"
      ],
      "metadata": {
        "id": "AUvyNLrrSrDc"
      }
    },
    {
      "cell_type": "code",
      "source": [
        "class Animal:\n",
        "# variable de clase que se inicializa cuando se importa el modulo animal\n",
        "  numAnimales = 0\n",
        "  def __init__(self, age = \"1\", name = \"dog\"):\n",
        "    self.age = age # public attribute\n",
        "    self.name = name # public attribute\n",
        "    self.vivo = True\n",
        "    Animal.numAnimales +=1\n",
        "  def saluda(self, saludo='Hola', receptor = 'nuevo amigo'):\n",
        "    print(saludo)\n",
        "  def mostrarNombre(self):\n",
        "    print(self.age)\n",
        "  def mostrarEdad(self):\n",
        "    print(self.name)\n",
        "  def morir(self):\n",
        "    if(self.vivo):\n",
        "      self.vivo = False\n",
        "      Animal.numAnimales -=1\n",
        "\n",
        "  @staticmethod\n",
        "  def get_numAnimales():\n",
        "    return Animal.numAnimales"
      ],
      "metadata": {
        "id": "j2QjSgYJSqWW"
      },
      "execution_count": 31,
      "outputs": []
    },
    {
      "cell_type": "code",
      "source": [
        "def main():\n",
        "  perro=Animal(1,\"perro1\")\n",
        "  perro2=Animal(1,\"perro2\")\n",
        "  print(perro.get_numAnimales())\n",
        "\n",
        "if __name__==\"__main__\":\n",
        "  main()\n",
        "\n"
      ],
      "metadata": {
        "colab": {
          "base_uri": "https://localhost:8080/"
        },
        "id": "7DtWclX1TdPx",
        "outputId": "1365e6f1-4b6d-419b-8499-2e22a4389d91"
      },
      "execution_count": 39,
      "outputs": [
        {
          "output_type": "stream",
          "name": "stdout",
          "text": [
            "16\n"
          ]
        }
      ]
    },
    {
      "cell_type": "markdown",
      "source": [
        "Ejemplo 5"
      ],
      "metadata": {
        "id": "i8DwhCtJW44e"
      }
    },
    {
      "cell_type": "code",
      "source": [
        "class Animal:\n",
        "# variable de clase que se inicializa cuando se importa el modulo animal\n",
        "# Esta variable podra ser accedida y modificada desde todas las instancias\n",
        "  numAnimales = 0\n",
        "  def __init__(self, age = \"0\", name = \"\"):\n",
        "    ''' Constructor del un animal, definimos los parametros por default\n",
        "    parámetro edad por default sera \"0\"\n",
        "    parámetro nombre por defuault sera \"\" '''\n",
        "    self.age = age # public attribute\n",
        "    self.name = name # public attribute\n",
        "    self.vivo = True\n",
        "    Animal.numAnimales +=1\n",
        "\n",
        "  #Metodos para acceder a los atributos de la clase.\n",
        "  def set_age(self,age):\n",
        "    self.age =age\n",
        "  def get_age(self):\n",
        "    return self.age\n",
        "  def set_name(self, name):\n",
        "    self.name = name\n",
        "  def get_name(self):\n",
        "    return self.name\n",
        "  def setVivo(self, vivo):\n",
        "    self.vivo = vivo \n",
        "  def isVivo(self):\n",
        "    return self.vivo\n",
        "\n",
        "  #Metodos de la clase que se pueden heredar a todas las instancias\n",
        "  def saluda(self, saludo='Hola soy ', receptor = 'nuevo amigo'):\n",
        "    print(saludo + self.name)\n",
        "  def mostrarNombre(self):\n",
        "    print(self.name)\n",
        "  def mostrarEdad(self):\n",
        "    print(self.age)\n",
        "  def morir(self):\n",
        "    if(self.vivo):\n",
        "      self.vivo = False\n",
        "      Animal.numAnimales -=1\n",
        "\n",
        "  ''' Sobre escribir con el método de igualdad de dos instancias de animal\n",
        "  se considerara que es el mismo animal si tiene el mismo nombre '''\n",
        "  def __eq__(self, other):\n",
        "    if other == None:\n",
        "      return False\n",
        "    if isinstance(other, Animal):\n",
        "      if (self.get_name() == other.get_name()):\n",
        "        return True\n",
        "      return False\n",
        "\n",
        "  def __str__(self):\n",
        "    if(self.vivo == False):\n",
        "        return \"Soy \" + self.name + \" y tenia \" + str(self.age) + \" years cuando fallecí\"\n",
        "    else: \n",
        "        return \"Soy \" + self.name + \" y tengo \" + str(self.age) + \" years. ¡La vida pueda ser maravillosa!\"\n",
        "\n",
        "  #Los métodos estáticos obtienen información de la clase no de la inwstancia\n",
        "  @staticmethod\n",
        "  def get_numAnimales():\n",
        "    return Animal.numAnimales"
      ],
      "metadata": {
        "id": "PWRocPtVW7mM"
      },
      "execution_count": 108,
      "outputs": []
    },
    {
      "cell_type": "code",
      "source": [
        "def main():\n",
        "  perro=Animal(4,\"Manchas\")\n",
        "  perro1=Animal(4,\"Parches\")\n",
        "  perro2=Animal(4,\"Parches\")\n",
        "  print(perro.get_age())\n",
        "  perro.set_age(2)\n",
        "  print(perro.get_age())\n",
        "  print(perro.get_name())\n",
        "  perro.set_name(\"Firulais\")\n",
        "  print(perro.get_name())\n",
        "  print(perro.isVivo())\n",
        "\n",
        "  perro.saluda()\n",
        "  perro.mostrarNombre()\n",
        "  perro.mostrarEdad()\n",
        "\n",
        "  print(\"Numero de Animales = \" + str(perro.get_numAnimales()))\n",
        "\n",
        "  perro.morir()\n",
        "  print(\"Numero de Animales = \" + str(perro.get_numAnimales()))\n",
        "\n",
        "  print(perro == perro)\n",
        "  print(perro1 == perro)\n",
        "  print(perro1 == perro2)\n",
        "\n",
        "if __name__==\"__main__\":\n",
        "  main()\n"
      ],
      "metadata": {
        "colab": {
          "base_uri": "https://localhost:8080/"
        },
        "id": "7JXyWLRHdOFF",
        "outputId": "9778eb6e-8133-46ec-ae52-54f9e1f4cdd1"
      },
      "execution_count": 113,
      "outputs": [
        {
          "output_type": "stream",
          "name": "stdout",
          "text": [
            "4\n",
            "2\n",
            "Manchas\n",
            "Firulais\n",
            "True\n",
            "Hola soy Firulais\n",
            "Firulais\n",
            "2\n",
            "Numero de Animales = 8\n",
            "Numero de Animales = 7\n",
            "True\n",
            "False\n",
            "True\n"
          ]
        }
      ]
    }
  ]
}