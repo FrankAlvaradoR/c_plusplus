{
  "nbformat": 4,
  "nbformat_minor": 0,
  "metadata": {
    "colab": {
      "provenance": [],
      "authorship_tag": "ABX9TyMMroFT1oRpMwqRzOPbMZb2",
      "include_colab_link": true
    },
    "kernelspec": {
      "name": "python3",
      "display_name": "Python 3"
    },
    "language_info": {
      "name": "python"
    }
  },
  "cells": [
    {
      "cell_type": "markdown",
      "metadata": {
        "id": "view-in-github",
        "colab_type": "text"
      },
      "source": [
        "<a href=\"https://colab.research.google.com/github/FrankAlvaradoR/c_plusplus/blob/main/Clase1_Operaciones_con_bits.ipynb\" target=\"_parent\"><img src=\"https://colab.research.google.com/assets/colab-badge.svg\" alt=\"Open In Colab\"/></a>"
      ]
    },
    {
      "cell_type": "markdown",
      "source": [
        "# Representación de la información binaria."
      ],
      "metadata": {
        "id": "pAr4FUJY5SHk"
      }
    },
    {
      "cell_type": "code",
      "execution_count": null,
      "metadata": {
        "colab": {
          "base_uri": "https://localhost:8080/"
        },
        "id": "OML_IpjF3RJZ",
        "outputId": "f93b02a2-ea2b-4e93-8d2e-860254fe196b"
      },
      "outputs": [
        {
          "output_type": "stream",
          "name": "stdout",
          "text": [
            "Overwriting main.cpp\n"
          ]
        }
      ],
      "source": [
        "# Definimos el código de una función definiendo en \n",
        "# decimal, hexadecimial y octal el mismo valor. \n",
        "%%writefile main.cpp\n",
        "#include \"stdio.h\"\n",
        "\n",
        "int main()\n",
        "{\n",
        "  short int i;\n",
        "  i = 300;\n",
        "  printf(\"%d definido en decimal \\n\",i);\n",
        "  i = 0x12C;\n",
        "  printf(\"%d definido en hexadecimal \\n\",i);\n",
        "  i = 0454;\n",
        "  printf(\"%d definido en octal \\n\",i);\n",
        "  return 0;\n",
        "}"
      ]
    },
    {
      "cell_type": "code",
      "source": [
        "#Ejecuatamos es Script\n",
        "%%script bash\n",
        "g++ main.cpp \n",
        "./a.out"
      ],
      "metadata": {
        "colab": {
          "base_uri": "https://localhost:8080/"
        },
        "id": "Q9JGURRC4AGA",
        "outputId": "99c4afd3-88c2-4c4f-f732-cf9d4f2e565b"
      },
      "execution_count": null,
      "outputs": [
        {
          "output_type": "stream",
          "name": "stdout",
          "text": [
            "300 definido en decimal \n",
            "300 definido en hexadecimal \n",
            "300 definido en octal \n"
          ]
        }
      ]
    },
    {
      "cell_type": "markdown",
      "source": [
        "# Representación Binara con carácter"
      ],
      "metadata": {
        "id": "fe6jlts_6Spo"
      }
    },
    {
      "cell_type": "code",
      "source": [
        "# Definimos el código de una función definiendo en \n",
        "# el carácter, su valor ascii o su valor hexadecimal. \n",
        "%%writefile main.cpp\n",
        "#include \"stdio.h\"\n",
        "\n",
        "int main()\n",
        "{\n",
        "  unsigned char c;\n",
        "  c = 'A';\n",
        "  printf(\"%c definido como caracter \\n\", c);\n",
        "  c = 65;\n",
        "  printf(\"%c definido en código ascii  \\n\", c);\n",
        "  c = 0x41;\n",
        "  printf(\"%c definido en hexadecimal \\n\", c);\n",
        "  return 0;\n",
        "}"
      ],
      "metadata": {
        "colab": {
          "base_uri": "https://localhost:8080/"
        },
        "id": "T_i89-Jv6WtR",
        "outputId": "9b7214f8-808c-4bbe-c5e2-66d7f0b8a5cb"
      },
      "execution_count": null,
      "outputs": [
        {
          "output_type": "stream",
          "name": "stdout",
          "text": [
            "Overwriting main.cpp\n"
          ]
        }
      ]
    },
    {
      "cell_type": "code",
      "source": [
        "#Ejecuatamos es Script\n",
        "%%script bash\n",
        "g++ main.cpp \n",
        "./a.out"
      ],
      "metadata": {
        "colab": {
          "base_uri": "https://localhost:8080/"
        },
        "id": "c1rybQPw62_x",
        "outputId": "4deb37a4-87f7-46da-e86d-98b44532cd23"
      },
      "execution_count": null,
      "outputs": [
        {
          "output_type": "stream",
          "name": "stdout",
          "text": [
            "A definido como caracter \n",
            "A definido en código ascii  \n",
            "A definido en hexadecimal \n"
          ]
        }
      ]
    },
    {
      "cell_type": "markdown",
      "source": [
        "# Operaciones con bits"
      ],
      "metadata": {
        "id": "GnNjUBCX8ut9"
      }
    },
    {
      "cell_type": "code",
      "source": [
        "%%writefile main.cpp\n",
        "#include <iostream>\n",
        "#include \"stdio.h\"\n",
        "\n",
        "int main()\n",
        "{\n",
        " char x = 0xf5 ;\n",
        " char y = 0x5a ;\n",
        " unsigned short int result; \n",
        " result = x & y ;\n",
        " printf(\"El resultado de la operación AND es: %d \\n\", result);\n",
        " result = x | y ;\n",
        " printf(\"El resultado de la operación OR es: %d \\n\", result);\n",
        " result = x ^ y ;\n",
        " printf(\"El resultado de la operación XOR es: %d \\n\", result);\n",
        " result = ~x ;\n",
        " std::cout << \"el tamaño de la variable es de: \" << sizeof(result) << \" bytes \\n\";\n",
        " printf(\"El resultado de la operación NOT es: %d \\n\", result);\n",
        " \n",
        " x = 0x75;\n",
        " result = x >> 2 ;\n",
        " printf(\"El resultado de la operación 2 desplazamientos a la derecha es: %d \\n\", result);\n",
        " x = 0xf5;\n",
        " result = x << 2 ;\n",
        " printf(\"El resultado de la operación 2 desplazamientos a la izquierda es: %d \\n\", result);\n",
        " return 0;\n",
        "}"
      ],
      "metadata": {
        "colab": {
          "base_uri": "https://localhost:8080/"
        },
        "id": "Bd7ExbF48wq4",
        "outputId": "6886cd66-75ef-4762-a53b-704bbcf102c3"
      },
      "execution_count": null,
      "outputs": [
        {
          "output_type": "stream",
          "name": "stdout",
          "text": [
            "Overwriting main.cpp\n"
          ]
        }
      ]
    },
    {
      "cell_type": "code",
      "source": [
        "#Ejecuatamos es Script\n",
        "%%script bash\n",
        "g++ main.cpp \n",
        "./a.out"
      ],
      "metadata": {
        "colab": {
          "base_uri": "https://localhost:8080/"
        },
        "id": "oyOFu1Wb87YT",
        "outputId": "c443bb30-12ee-49d4-c8e0-443745633af7"
      },
      "execution_count": null,
      "outputs": [
        {
          "output_type": "stream",
          "name": "stdout",
          "text": [
            "El resultado de la operación AND es: 80 \n",
            "El resultado de la operación OR es: 65535 \n",
            "El resultado de la operación XOR es: 65455 \n",
            "el tamaño de la variable es de: 2 bytes \n",
            "El resultado de la operación NOT es: 10 \n",
            "El resultado de la operación 2 desplazamientos a la derecha es: 29 \n",
            "El resultado de la operación 2 desplazamientos a la izquierda es: 65492 \n"
          ]
        }
      ]
    },
    {
      "cell_type": "markdown",
      "source": [
        "# Mascaras"
      ],
      "metadata": {
        "id": "lRnup4F3AR_g"
      }
    },
    {
      "cell_type": "code",
      "source": [
        "%%writefile main.cpp\n",
        "#include <iostream>\n",
        "#include \"stdio.h\"\n",
        "\n",
        "int main()\n",
        "{\n",
        "  // mascara 1 --------------\n",
        "  unsigned short int var;\n",
        "  var = 0xff;\n",
        "  var = var & 0xf8;\n",
        "  std::cout << int(var); \n",
        "\n",
        "  // mascara 2 ---------------\n",
        "  short int var2;\n",
        "  var2 = 0xffff;\n",
        "  if (var2 & 0x1000)\n",
        "    printf(\"\\nEs 1\");\n",
        "  else\n",
        "    printf(\"\\nEs 0\");\n",
        "  return 0;\n",
        "}"
      ],
      "metadata": {
        "colab": {
          "base_uri": "https://localhost:8080/"
        },
        "id": "hqdyr4jdFD4Q",
        "outputId": "5f5c8d9a-da67-4e7c-a293-1639b1ab6630"
      },
      "execution_count": null,
      "outputs": [
        {
          "output_type": "stream",
          "name": "stdout",
          "text": [
            "Overwriting main.cpp\n"
          ]
        }
      ]
    },
    {
      "cell_type": "code",
      "source": [
        "#Ejecuatamos es Script\n",
        "%%script bash\n",
        "g++ main.cpp \n",
        "./a.out"
      ],
      "metadata": {
        "colab": {
          "base_uri": "https://localhost:8080/"
        },
        "id": "gvVxoaBeFqMp",
        "outputId": "ea060bbc-79e4-469e-dfac-8618e18d17ab"
      },
      "execution_count": null,
      "outputs": [
        {
          "output_type": "stream",
          "name": "stdout",
          "text": [
            "248\n",
            "Es 1"
          ]
        }
      ]
    }
  ]
}