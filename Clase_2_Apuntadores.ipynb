{
  "nbformat": 4,
  "nbformat_minor": 0,
  "metadata": {
    "colab": {
      "provenance": [],
      "authorship_tag": "ABX9TyP3jzv8bcaWpxT/f4uTi1A7",
      "include_colab_link": true
    },
    "kernelspec": {
      "name": "python3",
      "display_name": "Python 3"
    },
    "language_info": {
      "name": "python"
    }
  },
  "cells": [
    {
      "cell_type": "markdown",
      "metadata": {
        "id": "view-in-github",
        "colab_type": "text"
      },
      "source": [
        "<a href=\"https://colab.research.google.com/github/FrankAlvaradoR/c_plusplus/blob/main/Clase_2_Apuntadores.ipynb\" target=\"_parent\"><img src=\"https://colab.research.google.com/assets/colab-badge.svg\" alt=\"Open In Colab\"/></a>"
      ]
    },
    {
      "cell_type": "code",
      "execution_count": null,
      "metadata": {
        "id": "oz8KLpMuuJIB"
      },
      "outputs": [],
      "source": []
    },
    {
      "cell_type": "markdown",
      "source": [
        "\n",
        "# Apuntadores"
      ],
      "metadata": {
        "id": "pAr4FUJY5SHk"
      }
    },
    {
      "cell_type": "code",
      "execution_count": null,
      "metadata": {
        "colab": {
          "base_uri": "https://localhost:8080/"
        },
        "id": "OML_IpjF3RJZ",
        "outputId": "217dc92a-809d-4bb3-8b74-af6067ab83f4"
      },
      "outputs": [
        {
          "output_type": "stream",
          "name": "stdout",
          "text": [
            "Overwriting main.cpp\n"
          ]
        }
      ],
      "source": [
        "# Definimos el código de una función definiendo en \n",
        "# decimal, hexadecimial y octal el mismo valor. \n",
        "%%writefile main.cpp\n",
        "#include \"stdio.h\"\n",
        "\n",
        "int main()\n",
        "{\n",
        "  int i = 2;\n",
        "  int *pi = &i;\n",
        "  printf(\"%d\",i);\n",
        "  printf(\"\\n\");\n",
        "  printf(\"%p\",pi);\n",
        "  \n",
        "  return 0;\n",
        "}"
      ]
    },
    {
      "cell_type": "code",
      "source": [
        "#Ejecuatamos es Script\n",
        "%%script bash\n",
        "g++ main.cpp \n",
        "./a.out"
      ],
      "metadata": {
        "colab": {
          "base_uri": "https://localhost:8080/"
        },
        "id": "Q9JGURRC4AGA",
        "outputId": "8192186f-cc85-4c9f-8ad3-773ab443f5b2"
      },
      "execution_count": null,
      "outputs": [
        {
          "output_type": "stream",
          "name": "stdout",
          "text": [
            "2\n",
            "0x7fff78b20b0c"
          ]
        }
      ]
    },
    {
      "cell_type": "code",
      "source": [
        "# Definimos el código de una función definiendo en \n",
        "# decimal, hexadecimial y octal el mismo valor. \n",
        "%%writefile main.cpp\n",
        "#include \"stdio.h\"\n",
        "\n",
        "int main()\n",
        "{\n",
        "  int i = 2;\n",
        "  int *pi = &i;\n",
        "  int j = *pi;\n",
        "  printf(\"%d\",i);\n",
        "  printf(\"\\n\");\n",
        "  printf(\"%p\",pi);\n",
        "  printf(\"\\n\");\n",
        "  printf(\"%d\",j);\n",
        "  \n",
        "  return 0;\n",
        "}"
      ],
      "metadata": {
        "colab": {
          "base_uri": "https://localhost:8080/"
        },
        "id": "B1o-DHkSvsUj",
        "outputId": "2782a763-660b-46b0-c742-b385ceb0ce44"
      },
      "execution_count": null,
      "outputs": [
        {
          "output_type": "stream",
          "name": "stdout",
          "text": [
            "Overwriting main.cpp\n"
          ]
        }
      ]
    },
    {
      "cell_type": "code",
      "source": [
        "#Ejecuatamos es Script\n",
        "%%script bash\n",
        "g++ main.cpp \n",
        "./a.out"
      ],
      "metadata": {
        "colab": {
          "base_uri": "https://localhost:8080/"
        },
        "id": "0LlWr4qQwVOk",
        "outputId": "e89e58c8-8b41-4870-b529-85de038d8610"
      },
      "execution_count": null,
      "outputs": [
        {
          "output_type": "stream",
          "name": "stdout",
          "text": [
            "2\n",
            "0x7ffce44168d8\n",
            "2"
          ]
        }
      ]
    },
    {
      "cell_type": "code",
      "source": [
        "# Definimos el código de una función definiendo en \n",
        "# decimal, hexadecimial y octal el mismo valor. \n",
        "%%writefile main.cpp\n",
        "#include \"stdio.h\"\n",
        "\n",
        "int main()\n",
        "{\n",
        "  int a = 3, b = 7;\n",
        "\n",
        "  int *i = &a;\n",
        "  int *j = &b;\n",
        "  *i = *j;\n",
        "  printf(\"%d \\n\",a);\n",
        "  printf(\"%d\",b);\n",
        "  \n",
        "  \n",
        "  return 0;\n",
        "}"
      ],
      "metadata": {
        "colab": {
          "base_uri": "https://localhost:8080/"
        },
        "id": "2tDcFvrdwc1o",
        "outputId": "ee9e1cca-7204-4b4a-9fef-a27d65ea3420"
      },
      "execution_count": null,
      "outputs": [
        {
          "output_type": "stream",
          "name": "stdout",
          "text": [
            "Overwriting main.cpp\n"
          ]
        }
      ]
    },
    {
      "cell_type": "code",
      "source": [
        "#Ejecuatamos es Script\n",
        "%%script bash\n",
        "g++ main.cpp \n",
        "./a.out"
      ],
      "metadata": {
        "colab": {
          "base_uri": "https://localhost:8080/"
        },
        "id": "0s61coSVw2qn",
        "outputId": "1dfad638-44ae-4732-8af4-4cee16544307"
      },
      "execution_count": null,
      "outputs": [
        {
          "output_type": "stream",
          "name": "stdout",
          "text": [
            "7 \n",
            "7"
          ]
        }
      ]
    },
    {
      "cell_type": "code",
      "source": [
        "#Ejecutar este código en copilador online para la entrada \n",
        "%%writefile main.cpp\n",
        "#include <iostream>\n",
        "\n",
        "int main()\n",
        "{\n",
        "  int variable=10;\n",
        "  int *apuntador;\n",
        "  std::cout<<\"la variable contiene un \"<<variable<<\". \\n\";\n",
        "  apuntador=&variable;\n",
        "  std::cout<<\"variable esta en la direccion \"<<apuntador<<\". \\n\";\n",
        "  *apuntador=15;\n",
        "  std::cout<<\"la variable ahora tiene un \"<<variable<<\". \\n\";\n",
        "  std::cout<<\"ahora tecle un numero\"<< \" \\n\";\n",
        "  std::cin>>*apuntador;\n",
        "  std::cout<<\"y ahora contiene un \"<<*apuntador<<\". \\n\";\n",
        "  std::cin.ignore();\n",
        "  std::cin.get();\n",
        "  \n",
        "  return 0;\n",
        "}"
      ],
      "metadata": {
        "colab": {
          "base_uri": "https://localhost:8080/"
        },
        "id": "OCoj9uTcyaKJ",
        "outputId": "a2ce0de3-801c-4ebb-91c3-77181b08be0f"
      },
      "execution_count": null,
      "outputs": [
        {
          "output_type": "stream",
          "name": "stdout",
          "text": [
            "Overwriting main.cpp\n"
          ]
        }
      ]
    },
    {
      "cell_type": "code",
      "source": [
        "#Ejecuatamos es Script\n",
        "%%script bash\n",
        "g++ main.cpp \n",
        "./a.out"
      ],
      "metadata": {
        "colab": {
          "base_uri": "https://localhost:8080/"
        },
        "id": "mZAryKoQypZR",
        "outputId": "9aebc405-993d-40ed-a3e8-dc31c90cc1a7"
      },
      "execution_count": null,
      "outputs": [
        {
          "output_type": "stream",
          "name": "stdout",
          "text": [
            "la variable contiene un 10. \n",
            "variable esta en la direccion 0x7ffc09d050ac. \n",
            "la variable ahora tiene un 15. \n",
            "ahora tecle un numero \n",
            "y ahora contiene un 15. \n"
          ]
        }
      ]
    }
  ]
}