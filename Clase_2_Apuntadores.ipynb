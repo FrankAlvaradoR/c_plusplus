{
  "nbformat": 4,
  "nbformat_minor": 0,
  "metadata": {
    "colab": {
      "provenance": [],
      "authorship_tag": "ABX9TyMI6L2+Z/QnBToLhjAf9iZI",
      "include_colab_link": true
    },
    "kernelspec": {
      "name": "python3",
      "display_name": "Python 3"
    },
    "language_info": {
      "name": "python"
    }
  },
  "cells": [
    {
      "cell_type": "markdown",
      "metadata": {
        "id": "view-in-github",
        "colab_type": "text"
      },
      "source": [
        "<a href=\"https://colab.research.google.com/github/FrankAlvaradoR/c_plusplus/blob/main/Clase_2_Apuntadores.ipynb\" target=\"_parent\"><img src=\"https://colab.research.google.com/assets/colab-badge.svg\" alt=\"Open In Colab\"/></a>"
      ]
    },
    {
      "cell_type": "code",
      "execution_count": null,
      "metadata": {
        "id": "oz8KLpMuuJIB"
      },
      "outputs": [],
      "source": []
    },
    {
      "cell_type": "markdown",
      "source": [
        "\n",
        "# Apuntadores"
      ],
      "metadata": {
        "id": "pAr4FUJY5SHk"
      }
    },
    {
      "cell_type": "code",
      "execution_count": null,
      "metadata": {
        "colab": {
          "base_uri": "https://localhost:8080/"
        },
        "id": "OML_IpjF3RJZ",
        "outputId": "217dc92a-809d-4bb3-8b74-af6067ab83f4"
      },
      "outputs": [
        {
          "output_type": "stream",
          "name": "stdout",
          "text": [
            "Overwriting main.cpp\n"
          ]
        }
      ],
      "source": [
        "# Definimos el código de una función definiendo en \n",
        "# decimal, hexadecimial y octal el mismo valor. \n",
        "%%writefile main.cpp\n",
        "#include \"stdio.h\"\n",
        "\n",
        "int main()\n",
        "{\n",
        "  int i = 2;\n",
        "  int *pi = &i;\n",
        "  printf(\"%d\",i);\n",
        "  printf(\"\\n\");\n",
        "  printf(\"%p\",pi);\n",
        "  \n",
        "  return 0;\n",
        "}"
      ]
    },
    {
      "cell_type": "code",
      "source": [
        "#Ejecuatamos es Script\n",
        "%%script bash\n",
        "g++ main.cpp \n",
        "./a.out"
      ],
      "metadata": {
        "colab": {
          "base_uri": "https://localhost:8080/"
        },
        "id": "Q9JGURRC4AGA",
        "outputId": "8192186f-cc85-4c9f-8ad3-773ab443f5b2"
      },
      "execution_count": null,
      "outputs": [
        {
          "output_type": "stream",
          "name": "stdout",
          "text": [
            "2\n",
            "0x7fff78b20b0c"
          ]
        }
      ]
    },
    {
      "cell_type": "code",
      "source": [
        "# Definimos el código de una función definiendo en \n",
        "# decimal, hexadecimial y octal el mismo valor. \n",
        "%%writefile main.cpp\n",
        "#include \"stdio.h\"\n",
        "\n",
        "int main()\n",
        "{\n",
        "  int i = 2;\n",
        "  int *pi = &i;\n",
        "  int j = *pi;\n",
        "  printf(\"%d\",i);\n",
        "  printf(\"\\n\");\n",
        "  printf(\"%p\",pi);\n",
        "  printf(\"\\n\");\n",
        "  printf(\"%d\",j);\n",
        "  \n",
        "  return 0;\n",
        "}"
      ],
      "metadata": {
        "colab": {
          "base_uri": "https://localhost:8080/"
        },
        "id": "B1o-DHkSvsUj",
        "outputId": "2782a763-660b-46b0-c742-b385ceb0ce44"
      },
      "execution_count": null,
      "outputs": [
        {
          "output_type": "stream",
          "name": "stdout",
          "text": [
            "Overwriting main.cpp\n"
          ]
        }
      ]
    },
    {
      "cell_type": "code",
      "source": [
        "#Ejecuatamos es Script\n",
        "%%script bash\n",
        "g++ main.cpp \n",
        "./a.out"
      ],
      "metadata": {
        "colab": {
          "base_uri": "https://localhost:8080/"
        },
        "id": "0LlWr4qQwVOk",
        "outputId": "e89e58c8-8b41-4870-b529-85de038d8610"
      },
      "execution_count": null,
      "outputs": [
        {
          "output_type": "stream",
          "name": "stdout",
          "text": [
            "2\n",
            "0x7ffce44168d8\n",
            "2"
          ]
        }
      ]
    },
    {
      "cell_type": "code",
      "source": [
        "# Definimos el código de una función definiendo en \n",
        "# decimal, hexadecimial y octal el mismo valor. \n",
        "%%writefile main.cpp\n",
        "#include \"stdio.h\"\n",
        "\n",
        "int main()\n",
        "{\n",
        "  int a = 3, b = 7;\n",
        "\n",
        "  int *i = &a;\n",
        "  int *j = &b;\n",
        "  *i = *j;\n",
        "  printf(\"%d \\n\",a);\n",
        "  printf(\"%d\",b);\n",
        "  \n",
        "  \n",
        "  return 0;\n",
        "}"
      ],
      "metadata": {
        "colab": {
          "base_uri": "https://localhost:8080/"
        },
        "id": "2tDcFvrdwc1o",
        "outputId": "ee9e1cca-7204-4b4a-9fef-a27d65ea3420"
      },
      "execution_count": null,
      "outputs": [
        {
          "output_type": "stream",
          "name": "stdout",
          "text": [
            "Overwriting main.cpp\n"
          ]
        }
      ]
    },
    {
      "cell_type": "code",
      "source": [
        "#Ejecuatamos es Script\n",
        "%%script bash\n",
        "g++ main.cpp \n",
        "./a.out"
      ],
      "metadata": {
        "colab": {
          "base_uri": "https://localhost:8080/"
        },
        "id": "0s61coSVw2qn",
        "outputId": "1dfad638-44ae-4732-8af4-4cee16544307"
      },
      "execution_count": null,
      "outputs": [
        {
          "output_type": "stream",
          "name": "stdout",
          "text": [
            "7 \n",
            "7"
          ]
        }
      ]
    },
    {
      "cell_type": "code",
      "source": [
        "#Ejecutar este código en copilador online para la entrada \n",
        "#Ejecutar este código en copilador online para la entrada \n",
        "%%writefile main.cpp\n",
        "#include <iostream>\n",
        "\n",
        "int main()\n",
        "{\n",
        "  int variable=10;\n",
        "  int *apuntador;\n",
        "  std::cout<<\"la variable contiene un \"<<variable<<\". \\n\";\n",
        "  apuntador=&variable;\n",
        "  std::cout<<\"variable esta en la direccion \"<<apuntador<<\". \\n\";\n",
        "  *apuntador=15;\n",
        "  std::cout<<\"la variable ahora tiene un \"<<variable<<\". \\n\";\n",
        "  std::cout<<\"ahora tecle un numero\"<< \" \\n\";\n",
        "  std::cin>>*apuntador;\n",
        "  std::cout<<\"y ahora contiene un \"<<*apuntador<<\". \\n\";\n",
        "  std::cin.ignore();\n",
        "  std::cin.get();\n",
        "  \n",
        "  return 0;\n",
        "}"
      ],
      "metadata": {
        "colab": {
          "base_uri": "https://localhost:8080/"
        },
        "id": "OCoj9uTcyaKJ",
        "outputId": "a2ce0de3-801c-4ebb-91c3-77181b08be0f"
      },
      "execution_count": null,
      "outputs": [
        {
          "output_type": "stream",
          "name": "stdout",
          "text": [
            "Overwriting main.cpp\n"
          ]
        }
      ]
    },
    {
      "cell_type": "code",
      "source": [
        "#Ejecuatamos es Script\n",
        "%%script bash\n",
        "g++ main.cpp \n",
        "./a.out"
      ],
      "metadata": {
        "colab": {
          "base_uri": "https://localhost:8080/"
        },
        "id": "mZAryKoQypZR",
        "outputId": "cdbe1117-0a7c-44fc-83da-283d902f2b2c"
      },
      "execution_count": 32,
      "outputs": [
        {
          "output_type": "stream",
          "name": "stdout",
          "text": [
            "la variable contiene 5\n",
            "la variable contiene 0x7ffd33aeeb1c\n",
            "la variable contiene 5\n",
            "\n",
            "el puntero contiene 0x7ffd33aeeb1c\n",
            "el puntero contiene 5\n",
            "el puntero contiene 0x7ffd33aeeb1c\n"
          ]
        }
      ]
    },
    {
      "cell_type": "markdown",
      "source": [
        "# Operaciones con Apuntadores\n"
      ],
      "metadata": {
        "id": "bz15psuIVMFq"
      }
    },
    {
      "cell_type": "code",
      "source": [
        "#Ejecutar este código en copilador online para la entrada \n",
        "%%writefile main.cpp\n",
        "#include <iostream>\n",
        "\n",
        "int main()\n",
        "{\n",
        "  int variable = 5;\n",
        "  int *puntero = &variable;\n",
        "  std::cout<< \"la variable contiene \" << variable <<\"\\n\";\n",
        "  std::cout<< \"la variable contiene \" << &variable <<\"\\n\";\n",
        "  std::cout<< \"la variable contiene \" << *&variable <<\"\\n\";\n",
        "  std::cout<<\"\\n\";\n",
        "  std::cout<< \"el puntero contiene \" << puntero <<\"\\n\";\n",
        "  std::cout<< \"el puntero contiene \" << *puntero <<\"\\n\";\n",
        "  std::cout<< \"el puntero contiene \" << &*puntero <<\"\\n\";\n",
        "  return 0;\n",
        "}"
      ],
      "metadata": {
        "colab": {
          "base_uri": "https://localhost:8080/"
        },
        "id": "08ggACgfVPm6",
        "outputId": "4b3cfd12-5724-4b0d-db5d-2161d0377f7a"
      },
      "execution_count": 31,
      "outputs": [
        {
          "output_type": "stream",
          "name": "stdout",
          "text": [
            "Overwriting main.cpp\n"
          ]
        }
      ]
    },
    {
      "cell_type": "markdown",
      "source": [
        "# Uso de arreglos"
      ],
      "metadata": {
        "id": "qMQZ3tA5onDy"
      }
    },
    {
      "cell_type": "code",
      "source": [
        "#Ejecutar este código en copilador online para la entrada \n",
        "%%writefile main.cpp\n",
        "\n",
        "#include <iostream>\n",
        "#include <iomanip> //para presentacion con formato\n",
        "#include <stdlib.h>\n",
        "#include <time.h>\n",
        "int main(){\n",
        "  const int tam_max=10;\n",
        "  int aleatorios[tam_max];\n",
        "  int i,suma=0;\n",
        "  float promedio;\n",
        "  srand((unsigned)time(NULL));\n",
        "  for(i=0;i<tam_max;i++){\n",
        "    aleatorios[i]=rand()%128; //asigna el numero\n",
        "    std::cout<<\"aleatorio generado: \" <<std::setw(10)<<aleatorios[i]<<\"\\n\"; //presenta el numero\n",
        "    \n",
        "  }\n",
        "  for(i=0;i<tam_max;)\n",
        "    suma+=aleatorios[i++]; //suma los elementos\n",
        "  promedio=(float)suma/tam_max;\n",
        "  std::cout<<\"\\n\"<<\"el promedio es: \"<<promedio<<\"\\n\";\n",
        "  std::cin.get();\n",
        "  return 0;\n",
        "}\n"
      ],
      "metadata": {
        "colab": {
          "base_uri": "https://localhost:8080/"
        },
        "id": "pdS5ZD97omuB",
        "outputId": "65d60a66-ba45-4502-bf73-4c638319817b"
      },
      "execution_count": 47,
      "outputs": [
        {
          "output_type": "stream",
          "name": "stdout",
          "text": [
            "Overwriting main.cpp\n"
          ]
        }
      ]
    },
    {
      "cell_type": "code",
      "source": [
        "#Ejecuatamos es Script\n",
        "%%script bash\n",
        "g++ main.cpp \n",
        "./a.out"
      ],
      "metadata": {
        "colab": {
          "base_uri": "https://localhost:8080/"
        },
        "id": "UEBOqb7mpnM7",
        "outputId": "c96801c6-88df-4269-8d15-ac87470d047a"
      },
      "execution_count": 48,
      "outputs": [
        {
          "output_type": "stream",
          "name": "stdout",
          "text": [
            "aleatorio generado:         48\n",
            "aleatorio generado:         68\n",
            "aleatorio generado:          2\n",
            "aleatorio generado:        109\n",
            "aleatorio generado:        122\n",
            "aleatorio generado:         37\n",
            "aleatorio generado:        124\n",
            "aleatorio generado:        105\n",
            "aleatorio generado:         57\n",
            "aleatorio generado:         40\n",
            "\n",
            "el promedio es: 71.2\n"
          ]
        }
      ]
    }
  ]
}