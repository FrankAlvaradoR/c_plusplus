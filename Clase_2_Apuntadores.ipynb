{
  "nbformat": 4,
  "nbformat_minor": 0,
  "metadata": {
    "colab": {
      "provenance": [],
      "authorship_tag": "ABX9TyMBYuZLC4jxZ7Llu3vUM1CG",
      "include_colab_link": true
    },
    "kernelspec": {
      "name": "python3",
      "display_name": "Python 3"
    },
    "language_info": {
      "name": "python"
    }
  },
  "cells": [
    {
      "cell_type": "markdown",
      "metadata": {
        "id": "view-in-github",
        "colab_type": "text"
      },
      "source": [
        "<a href=\"https://colab.research.google.com/github/FrankAlvaradoR/c_plusplus/blob/main/Clase_2_Apuntadores.ipynb\" target=\"_parent\"><img src=\"https://colab.research.google.com/assets/colab-badge.svg\" alt=\"Open In Colab\"/></a>"
      ]
    },
    {
      "cell_type": "code",
      "execution_count": null,
      "metadata": {
        "id": "oz8KLpMuuJIB"
      },
      "outputs": [],
      "source": []
    },
    {
      "cell_type": "markdown",
      "source": [
        "\n",
        "# Apuntadores"
      ],
      "metadata": {
        "id": "pAr4FUJY5SHk"
      }
    },
    {
      "cell_type": "code",
      "execution_count": null,
      "metadata": {
        "colab": {
          "base_uri": "https://localhost:8080/"
        },
        "id": "OML_IpjF3RJZ",
        "outputId": "217dc92a-809d-4bb3-8b74-af6067ab83f4"
      },
      "outputs": [
        {
          "output_type": "stream",
          "name": "stdout",
          "text": [
            "Overwriting main.cpp\n"
          ]
        }
      ],
      "source": [
        "# Definimos el código de una función definiendo en \n",
        "# decimal, hexadecimial y octal el mismo valor. \n",
        "%%writefile main.cpp\n",
        "#include \"stdio.h\"\n",
        "\n",
        "int main()\n",
        "{\n",
        "  int i = 2;\n",
        "  int *pi = &i;\n",
        "  printf(\"%d\",i);\n",
        "  printf(\"\\n\");\n",
        "  printf(\"%p\",pi);\n",
        "  \n",
        "  return 0;\n",
        "}"
      ]
    },
    {
      "cell_type": "code",
      "source": [
        "#Ejecuatamos es Script\n",
        "%%script bash\n",
        "g++ main.cpp \n",
        "./a.out"
      ],
      "metadata": {
        "colab": {
          "base_uri": "https://localhost:8080/"
        },
        "id": "Q9JGURRC4AGA",
        "outputId": "8192186f-cc85-4c9f-8ad3-773ab443f5b2"
      },
      "execution_count": null,
      "outputs": [
        {
          "output_type": "stream",
          "name": "stdout",
          "text": [
            "2\n",
            "0x7fff78b20b0c"
          ]
        }
      ]
    },
    {
      "cell_type": "code",
      "source": [
        "# Definimos el código de una función definiendo en \n",
        "# decimal, hexadecimial y octal el mismo valor. \n",
        "%%writefile main.cpp\n",
        "#include \"stdio.h\"\n",
        "\n",
        "int main()\n",
        "{\n",
        "  int i = 2;\n",
        "  int *pi = &i;\n",
        "  int j = *pi;\n",
        "  printf(\"%d\",i);\n",
        "  printf(\"\\n\");\n",
        "  printf(\"%p\",pi);\n",
        "  printf(\"\\n\");\n",
        "  printf(\"%d\",j);\n",
        "  \n",
        "  return 0;\n",
        "}"
      ],
      "metadata": {
        "colab": {
          "base_uri": "https://localhost:8080/"
        },
        "id": "B1o-DHkSvsUj",
        "outputId": "2782a763-660b-46b0-c742-b385ceb0ce44"
      },
      "execution_count": null,
      "outputs": [
        {
          "output_type": "stream",
          "name": "stdout",
          "text": [
            "Overwriting main.cpp\n"
          ]
        }
      ]
    },
    {
      "cell_type": "code",
      "source": [
        "#Ejecuatamos es Script\n",
        "%%script bash\n",
        "g++ main.cpp \n",
        "./a.out"
      ],
      "metadata": {
        "colab": {
          "base_uri": "https://localhost:8080/"
        },
        "id": "0LlWr4qQwVOk",
        "outputId": "e89e58c8-8b41-4870-b529-85de038d8610"
      },
      "execution_count": null,
      "outputs": [
        {
          "output_type": "stream",
          "name": "stdout",
          "text": [
            "2\n",
            "0x7ffce44168d8\n",
            "2"
          ]
        }
      ]
    },
    {
      "cell_type": "code",
      "source": [
        "# Definimos el código de una función definiendo en \n",
        "# decimal, hexadecimial y octal el mismo valor. \n",
        "%%writefile main.cpp\n",
        "#include \"stdio.h\"\n",
        "\n",
        "int main()\n",
        "{\n",
        "  int a = 3, b = 7;\n",
        "\n",
        "  int *i = &a;\n",
        "  int *j = &b;\n",
        "  *i = *j;\n",
        "  printf(\"%d \\n\",a);\n",
        "  printf(\"%d\",b);\n",
        "  \n",
        "  \n",
        "  return 0;\n",
        "}"
      ],
      "metadata": {
        "colab": {
          "base_uri": "https://localhost:8080/"
        },
        "id": "2tDcFvrdwc1o",
        "outputId": "ee9e1cca-7204-4b4a-9fef-a27d65ea3420"
      },
      "execution_count": null,
      "outputs": [
        {
          "output_type": "stream",
          "name": "stdout",
          "text": [
            "Overwriting main.cpp\n"
          ]
        }
      ]
    },
    {
      "cell_type": "code",
      "source": [
        "#Ejecuatamos es Script\n",
        "%%script bash\n",
        "g++ main.cpp \n",
        "./a.out"
      ],
      "metadata": {
        "colab": {
          "base_uri": "https://localhost:8080/"
        },
        "id": "0s61coSVw2qn",
        "outputId": "1dfad638-44ae-4732-8af4-4cee16544307"
      },
      "execution_count": null,
      "outputs": [
        {
          "output_type": "stream",
          "name": "stdout",
          "text": [
            "7 \n",
            "7"
          ]
        }
      ]
    },
    {
      "cell_type": "code",
      "source": [
        "#Ejecutar este código en copilador online para la entrada \n",
        "#Ejecutar este código en copilador online para la entrada \n",
        "%%writefile main.cpp\n",
        "#include <iostream>\n",
        "\n",
        "int main()\n",
        "{\n",
        "  int variable=10;\n",
        "  int *apuntador;\n",
        "  std::cout<<\"la variable contiene un \"<<variable<<\". \\n\";\n",
        "  apuntador=&variable;\n",
        "  std::cout<<\"variable esta en la direccion \"<<apuntador<<\". \\n\";\n",
        "  *apuntador=15;\n",
        "  std::cout<<\"la variable ahora tiene un \"<<variable<<\". \\n\";\n",
        "  std::cout<<\"ahora tecle un numero\"<< \" \\n\";\n",
        "  std::cin>>*apuntador;\n",
        "  std::cout<<\"y ahora contiene un \"<<*apuntador<<\". \\n\";\n",
        "  std::cin.ignore();\n",
        "  std::cin.get();\n",
        "  \n",
        "  return 0;\n",
        "}"
      ],
      "metadata": {
        "colab": {
          "base_uri": "https://localhost:8080/"
        },
        "id": "OCoj9uTcyaKJ",
        "outputId": "a2ce0de3-801c-4ebb-91c3-77181b08be0f"
      },
      "execution_count": null,
      "outputs": [
        {
          "output_type": "stream",
          "name": "stdout",
          "text": [
            "Overwriting main.cpp\n"
          ]
        }
      ]
    },
    {
      "cell_type": "code",
      "source": [
        "#Ejecuatamos es Script\n",
        "%%script bash\n",
        "g++ main.cpp \n",
        "./a.out"
      ],
      "metadata": {
        "colab": {
          "base_uri": "https://localhost:8080/"
        },
        "id": "mZAryKoQypZR",
        "outputId": "cdbe1117-0a7c-44fc-83da-283d902f2b2c"
      },
      "execution_count": 32,
      "outputs": [
        {
          "output_type": "stream",
          "name": "stdout",
          "text": [
            "la variable contiene 5\n",
            "la variable contiene 0x7ffd33aeeb1c\n",
            "la variable contiene 5\n",
            "\n",
            "el puntero contiene 0x7ffd33aeeb1c\n",
            "el puntero contiene 5\n",
            "el puntero contiene 0x7ffd33aeeb1c\n"
          ]
        }
      ]
    },
    {
      "cell_type": "markdown",
      "source": [
        "# Operaciones con Apuntadores\n"
      ],
      "metadata": {
        "id": "bz15psuIVMFq"
      }
    },
    {
      "cell_type": "code",
      "source": [
        "#Ejecutar este código en copilador online para la entrada \n",
        "%%writefile main.cpp\n",
        "#include <iostream>\n",
        "\n",
        "int main()\n",
        "{\n",
        "  int variable = 5;\n",
        "  int *puntero = &variable;\n",
        "  std::cout<< \"la variable contiene \" << variable <<\"\\n\";\n",
        "  std::cout<< \"la variable contiene \" << &variable <<\"\\n\";\n",
        "  std::cout<< \"la variable contiene \" << *&variable <<\"\\n\";\n",
        "  std::cout<<\"\\n\";\n",
        "  std::cout<< \"el puntero contiene \" << puntero <<\"\\n\";\n",
        "  std::cout<< \"el puntero contiene \" << *puntero <<\"\\n\";\n",
        "  std::cout<< \"el puntero contiene \" << &*puntero <<\"\\n\";\n",
        "  return 0;\n",
        "}"
      ],
      "metadata": {
        "colab": {
          "base_uri": "https://localhost:8080/"
        },
        "id": "08ggACgfVPm6",
        "outputId": "4b3cfd12-5724-4b0d-db5d-2161d0377f7a"
      },
      "execution_count": 31,
      "outputs": [
        {
          "output_type": "stream",
          "name": "stdout",
          "text": [
            "Overwriting main.cpp\n"
          ]
        }
      ]
    },
    {
      "cell_type": "markdown",
      "source": [
        "# Uso de arreglos\n",
        "\n",
        "Para asignar cada valor aleatorio generado, se utiliza un ciclo for con un contador “i” que va de 0 hasta el tamaño máximo que pudiera tener el array. El tamaño del array fue declarado como una constante al principio de la función principal, esto ayudará en caso de que se quiera aumentar el tamaño del arreglo, así no tendremos que modificar cada parte de nuestro código en la que se refiera al tamaño, bastará con cambiar el valor de la constante.\n",
        "\n",
        "Dentro del ciclo se genera un número aleatorio con la función rand(), usamos el operador para obtener el resto de la división entera, así nos dará un número menor de 128. Previamente se utilizó la función srand() para establecer una semilla para generar los números aleatorios, esa semilla la tomamos llamando al reloj del sistema con la función time(). Al mismo tiempo imprimimos el número que fue generado.\n",
        "\n",
        "Posteriormente, se hace de nuevo un ciclo para acceder a los valores almacenados y sumarlos en una variable, aunque esto se pudo haber hecho dentro del ciclo anterior servirá para mostrar las formas de asignación y consulta de valores. Además del uso del incremento después de la asignación.\n",
        "\n",
        "Finalmente se calcula el promedio."
      ],
      "metadata": {
        "id": "qMQZ3tA5onDy"
      }
    },
    {
      "cell_type": "code",
      "source": [
        "#Generación de arreglos y operaciones con este\n",
        "%%writefile main.cpp\n",
        "\n",
        "#include <iostream>\n",
        "#include <iomanip> //para presentacion con formato\n",
        "#include <stdlib.h>\n",
        "#include <time.h>\n",
        "int main(){\n",
        "  const int tam_max=10;\n",
        "  int aleatorios[tam_max];\n",
        "  int i,suma=0;\n",
        "  float promedio;\n",
        "  srand((unsigned)time(NULL));\n",
        "  for(i=0;i<tam_max;i++){\n",
        "    aleatorios[i]=rand()%128; //asigna el numero\n",
        "    std::cout<<\"aleatorio generado: \" <<std::setw(10)<<aleatorios[i]<<\"\\n\"; //presenta el numero\n",
        "    \n",
        "  }\n",
        "  for(i=0;i<tam_max;)\n",
        "    suma+=aleatorios[i++]; //suma los elementos\n",
        "  promedio=(float)suma/tam_max;\n",
        "  std::cout<<\"\\n\"<<\"el promedio es: \"<<promedio<<\"\\n\";\n",
        "  std::cin.get();\n",
        "  return 0;\n",
        "}\n"
      ],
      "metadata": {
        "colab": {
          "base_uri": "https://localhost:8080/"
        },
        "id": "pdS5ZD97omuB",
        "outputId": "65d60a66-ba45-4502-bf73-4c638319817b"
      },
      "execution_count": 47,
      "outputs": [
        {
          "output_type": "stream",
          "name": "stdout",
          "text": [
            "Overwriting main.cpp\n"
          ]
        }
      ]
    },
    {
      "cell_type": "code",
      "source": [
        "#Ejecuatamos es Script\n",
        "%%script bash\n",
        "g++ main.cpp \n",
        "./a.out"
      ],
      "metadata": {
        "colab": {
          "base_uri": "https://localhost:8080/"
        },
        "id": "UEBOqb7mpnM7",
        "outputId": "42f9cd30-67da-45b4-e5d4-f5a00876e019"
      },
      "execution_count": 50,
      "outputs": [
        {
          "output_type": "stream",
          "name": "stdout",
          "text": [
            "\n"
          ]
        }
      ]
    },
    {
      "cell_type": "markdown",
      "source": [
        "¿Qué hace este programa?, sencillamente podemos decir que almacena una cadena introducida por el usuario, para luego modificar cada carácter por medio de un ciclo hasta que encuentre el carácter de terminación (\\0) o llegue al limite de caracteres."
      ],
      "metadata": {
        "id": "wSrCV8Fvr_Ui"
      }
    },
    {
      "cell_type": "code",
      "source": [
        "#Correr este código en copilador online. \n",
        "%%writefile main.cpp\n",
        "#include <iostream>\n",
        "int main(){\n",
        "    const int tam_cad=40;\n",
        "    char cadena[tam_cad];\n",
        "    std::cin.getline(cadena,tam_cad,'\\n');\n",
        "    for(int i=0;(i<tam_cad)&&(cadena[i]!='\\0');i++)\n",
        "    cadena[i]+=5;\n",
        "    std::cout<<cadena<<\"\\n\";\n",
        "    std::cin.get();\n",
        "    return 0;\n",
        "}"
      ],
      "metadata": {
        "colab": {
          "base_uri": "https://localhost:8080/"
        },
        "id": "JHIqqew-r10p",
        "outputId": "26a2c517-f24a-4f8d-ef3f-3b7c91a5bb50"
      },
      "execution_count": 49,
      "outputs": [
        {
          "output_type": "stream",
          "name": "stdout",
          "text": [
            "Overwriting main.cpp\n"
          ]
        }
      ]
    },
    {
      "cell_type": "markdown",
      "source": [
        "El mismo programa pero un poco “adornado” o “presuntuoso” queda de la siguiente\n",
        "forma."
      ],
      "metadata": {
        "id": "2izAvLwqsMkn"
      }
    },
    {
      "cell_type": "code",
      "source": [
        "#Correr este código en copilador online. \n",
        "%%writefile main.cpp\n",
        "\n",
        "#include <iostream>\n",
        "int main(){\n",
        "    const int tam_cad=20;\n",
        "    char cadena[tam_cad];\n",
        "    int clave;\n",
        "    std::cout<<\"introduce el texto a cifrar\"<<\"\\n\";\n",
        "    std::cin.getline(cadena,tam_cad,'\\n');\n",
        "    std::cout<<\"ahora dame tu clave (no mas de 3 digitos)\"<<\"\\n\";\n",
        "    std::cin>>clave;\n",
        "    for(int i=0;(i<tam_cad)&&(cadena[i]!='\\0');i++)\n",
        "        cadena[i]+=clave;\n",
        "    std::cout<<\"el texto cifrado es: \"<<\"\\n\";\n",
        "    std::cout<<cadena<<\"\\n\";\n",
        "    std::cin.ignore();\n",
        "    std::cin.get();\n",
        "    return 0;\n",
        "}"
      ],
      "metadata": {
        "id": "z7_C56S3s0I3"
      },
      "execution_count": null,
      "outputs": []
    }
  ]
}