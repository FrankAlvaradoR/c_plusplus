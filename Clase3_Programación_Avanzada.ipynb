{
  "nbformat": 4,
  "nbformat_minor": 0,
  "metadata": {
    "colab": {
      "provenance": [],
      "authorship_tag": "ABX9TyOOgNpPGFrJEx+lnQhA1ujM",
      "include_colab_link": true
    },
    "kernelspec": {
      "name": "python3",
      "display_name": "Python 3"
    },
    "language_info": {
      "name": "python"
    }
  },
  "cells": [
    {
      "cell_type": "markdown",
      "metadata": {
        "id": "view-in-github",
        "colab_type": "text"
      },
      "source": [
        "<a href=\"https://colab.research.google.com/github/FrankAlvaradoR/c_plusplus/blob/main/Clase3_Programaci%C3%B3n_Avanzada.ipynb\" target=\"_parent\"><img src=\"https://colab.research.google.com/assets/colab-badge.svg\" alt=\"Open In Colab\"/></a>"
      ]
    },
    {
      "cell_type": "code",
      "execution_count": 1,
      "metadata": {
        "colab": {
          "base_uri": "https://localhost:8080/"
        },
        "id": "2qJYxctj05XF",
        "outputId": "ab801dd9-97fa-42e3-b769-02dbb0cd72a2"
      },
      "outputs": [
        {
          "output_type": "stream",
          "name": "stdout",
          "text": [
            "Writing main.cpp\n"
          ]
        }
      ],
      "source": [
        "%%writefile main.cpp\n",
        "#include <fstream>\n",
        "int main(){\n",
        "  std::ofstream archivo;\n",
        "  archivo.open(\"miarchivo.txt\");\n",
        "  archivo<<\"hola desde este archivo\\n\";\n",
        "  archivo<<\"ya he escrito algo\\n\";\n",
        "  archivo.close();\n",
        "}"
      ]
    },
    {
      "cell_type": "code",
      "source": [
        "#Ejecuatamos es Script\n",
        "%%script bash\n",
        "g++ main.cpp \n",
        "./a.out"
      ],
      "metadata": {
        "id": "hglESfIN1W0q"
      },
      "execution_count": 7,
      "outputs": []
    },
    {
      "cell_type": "code",
      "source": [
        "%%writefile main.cpp\n",
        "#include <fstream>\n",
        "int main(){\n",
        "  std::ofstream archivo(\"miarchivo2.txt\");\n",
        "  archivo<<\"hola desde este archivo\\n\";\n",
        "  archivo<<\"ya he escrito algo\\n\";\n",
        "  archivo.close();\n",
        "}\n"
      ],
      "metadata": {
        "colab": {
          "base_uri": "https://localhost:8080/"
        },
        "id": "hMbxEI3w3eJ0",
        "outputId": "7fbdc7bd-fd4a-408f-cfdb-09793b4e0bfa"
      },
      "execution_count": 3,
      "outputs": [
        {
          "output_type": "stream",
          "name": "stdout",
          "text": [
            "Overwriting main.cpp\n"
          ]
        }
      ]
    },
    {
      "cell_type": "code",
      "source": [
        "%%writefile main.cpp\n",
        "#include<iostream>\n",
        "#include<fstream>\n",
        "int main(){\n",
        "  std::ofstream archivo(\"miarchivo2.txt\", std::ios::app);\n",
        "  archivo<<\"hola desde este archivo de nuevo\\n\";\n",
        "  archivo<<\"ya he escrito algo de nuevo\\n\";\n",
        "  archivo.close();\n",
        "}"
      ],
      "metadata": {
        "colab": {
          "base_uri": "https://localhost:8080/"
        },
        "id": "OXyehQwq44hN",
        "outputId": "86591424-f3fc-479b-d41d-572b042fa308"
      },
      "execution_count": 6,
      "outputs": [
        {
          "output_type": "stream",
          "name": "stdout",
          "text": [
            "Overwriting main.cpp\n"
          ]
        }
      ]
    }
  ]
}