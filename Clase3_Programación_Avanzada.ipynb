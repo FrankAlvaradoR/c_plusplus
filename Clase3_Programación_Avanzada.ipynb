{
  "nbformat": 4,
  "nbformat_minor": 0,
  "metadata": {
    "colab": {
      "provenance": [],
      "authorship_tag": "ABX9TyM7ZWJwVRZVe7aDZXMcEPJx",
      "include_colab_link": true
    },
    "kernelspec": {
      "name": "python3",
      "display_name": "Python 3"
    },
    "language_info": {
      "name": "python"
    }
  },
  "cells": [
    {
      "cell_type": "markdown",
      "metadata": {
        "id": "view-in-github",
        "colab_type": "text"
      },
      "source": [
        "<a href=\"https://colab.research.google.com/github/FrankAlvaradoR/c_plusplus/blob/main/Clase3_Programaci%C3%B3n_Avanzada.ipynb\" target=\"_parent\"><img src=\"https://colab.research.google.com/assets/colab-badge.svg\" alt=\"Open In Colab\"/></a>"
      ]
    },
    {
      "cell_type": "code",
      "execution_count": null,
      "metadata": {
        "colab": {
          "base_uri": "https://localhost:8080/"
        },
        "id": "2qJYxctj05XF",
        "outputId": "a7695bc1-f0f9-4c52-e468-e9ee935fc507"
      },
      "outputs": [
        {
          "output_type": "stream",
          "name": "stdout",
          "text": [
            "Overwriting main.cpp\n"
          ]
        }
      ],
      "source": [
        "%%writefile main.cpp\n",
        "#include <fstream>\n",
        "int main(){\n",
        "  std::ofstream archivo;\n",
        "  archivo.open(\"miarchivo.txt\");\n",
        "  archivo<<\"hola desde este archivo\\n\";\n",
        "  archivo<<\"ya he escrito algo\\n\";\n",
        "  archivo.close();\n",
        "}"
      ]
    },
    {
      "cell_type": "code",
      "source": [
        "#Ejecuatamos es Script\n",
        "%%script bash\n",
        "g++ main.cpp \n",
        "./a.out"
      ],
      "metadata": {
        "id": "hglESfIN1W0q"
      },
      "execution_count": null,
      "outputs": []
    },
    {
      "cell_type": "code",
      "source": [
        "%%writefile main.cpp\n",
        "#include <fstream>\n",
        "int main(){\n",
        "  std::ofstream archivo(\"miarchivo2.txt\");\n",
        "  archivo<<\"hola desde este archivo\\n\";\n",
        "  archivo<<\"ya he escrito algo\\n\";\n",
        "  archivo.close();\n",
        "}\n"
      ],
      "metadata": {
        "colab": {
          "base_uri": "https://localhost:8080/"
        },
        "id": "hMbxEI3w3eJ0",
        "outputId": "3db714d4-d84b-4694-bce0-ce9d781c3ae1"
      },
      "execution_count": null,
      "outputs": [
        {
          "output_type": "stream",
          "name": "stdout",
          "text": [
            "Overwriting main.cpp\n"
          ]
        }
      ]
    },
    {
      "cell_type": "code",
      "source": [
        "#Ejecuatamos es Script\n",
        "%%script bash\n",
        "g++ main.cpp \n",
        "./a.out"
      ],
      "metadata": {
        "id": "AfLbk4vJm3B6"
      },
      "execution_count": null,
      "outputs": []
    },
    {
      "cell_type": "code",
      "source": [
        "%%writefile main.cpp\n",
        "#include<iostream>\n",
        "#include<fstream>\n",
        "int main(){\n",
        "  std::ofstream archivo(\"miarchivo2.txt\", std::ios::app);\n",
        "  archivo<<\"hola desde este archivo de nuevo\\n\";\n",
        "  archivo<<\"ya he escrito algo de nuevo\\n\";\n",
        "  archivo.close();\n",
        "}"
      ],
      "metadata": {
        "id": "OXyehQwq44hN",
        "outputId": "f5d048a7-fde4-4301-e172-e72b273a7a05",
        "colab": {
          "base_uri": "https://localhost:8080/"
        }
      },
      "execution_count": null,
      "outputs": [
        {
          "output_type": "stream",
          "name": "stdout",
          "text": [
            "Overwriting main.cpp\n"
          ]
        }
      ]
    },
    {
      "cell_type": "code",
      "source": [
        "#Ejecuatamos es Script\n",
        "%%script bash\n",
        "g++ main.cpp \n",
        "./a.out"
      ],
      "metadata": {
        "id": "tTJWy5_8m4Vy"
      },
      "execution_count": null,
      "outputs": []
    },
    {
      "cell_type": "code",
      "source": [
        "%%writefile main.cpp\n",
        "#include<iostream>\n",
        "#include<fstream>\n",
        "int main(){\n",
        "  char caracter;\n",
        "  std::ifstream archivo(\"miarchivo2.txt\", std::ios::in);\n",
        "  while(!archivo.eof()){\n",
        "  archivo.get(caracter);\n",
        "  std::cout<<caracter;\n",
        "  }\n",
        "archivo.close();\n",
        "}"
      ],
      "metadata": {
        "colab": {
          "base_uri": "https://localhost:8080/"
        },
        "id": "vEnKv74Cm0rV",
        "outputId": "c8876063-67cc-4753-c559-d0590ac0ad67"
      },
      "execution_count": null,
      "outputs": [
        {
          "output_type": "stream",
          "name": "stdout",
          "text": [
            "Overwriting main.cpp\n"
          ]
        }
      ]
    },
    {
      "cell_type": "code",
      "source": [
        "#Ejecuatamos es Script\n",
        "%%script bash\n",
        "g++ main.cpp \n",
        "./a.out"
      ],
      "metadata": {
        "colab": {
          "base_uri": "https://localhost:8080/"
        },
        "id": "vYRLOGQVnEoq",
        "outputId": "9555c55f-f31a-4253-f467-c2638aecd5f4"
      },
      "execution_count": null,
      "outputs": [
        {
          "output_type": "stream",
          "name": "stdout",
          "text": [
            "hola desde este archivo\n",
            "ya he escrito algo\n",
            "hola desde este archivo de nuevo\n",
            "ya he escrito algo de nuevo\n",
            "\n"
          ]
        }
      ]
    },
    {
      "cell_type": "code",
      "source": [
        "%%writefile main.cpp\n",
        "#include <fstream>\n",
        "int main(){\n",
        "  std::ofstream archivo;\n",
        "  archivo.open(\"arch.txt\");\n",
        "  archivo<<\"hola\\n\";\n",
        "  archivo<<\"como estas?\\n\";\n",
        "  archivo<<\"bien\\n\";\n",
        "  archivo<<\"que haces?\\n\";\n",
        "  archivo<<\"nada\\n\";\n",
        "  archivo<<\"pues ponte a hacer algo, a que te dedicas?\\n\";\n",
        "  archivo<<\"estudio\\n\";\n",
        "  archivo<<\"y que estudias?\\n\";\n",
        "  archivo<<\"Biomédica\\n\";\n",
        "  archivo<<\"ha que bueno!!, de donde eres?\\n\";\n",
        "  archivo<<\"de guadalajara\\n\";\n",
        "  archivo<<\"que interesante, hay algo que quieras preguntarme?\\n\";\n",
        "  archivo<<\"como te llamas?\\n\";\n",
        "  archivo<<\"acaso eso importa?\\n\";\n",
        "  archivo<<\"como te llamas\\n\";\n",
        "  archivo<<\"pregunta de nuevo\\n\";\n",
        "  archivo<<\" \\n\";\n",
        "  archivo.close();\n",
        "}"
      ],
      "metadata": {
        "colab": {
          "base_uri": "https://localhost:8080/"
        },
        "id": "Soo7BAvPAgXS",
        "outputId": "8f935ccb-cfff-40b3-87da-6f29544311f0"
      },
      "execution_count": null,
      "outputs": [
        {
          "output_type": "stream",
          "name": "stdout",
          "text": [
            "Overwriting main.cpp\n"
          ]
        }
      ]
    },
    {
      "cell_type": "code",
      "source": [
        "#Ejecuatamos es Script\n",
        "%%script bash\n",
        "g++ main.cpp \n",
        "./a.out"
      ],
      "metadata": {
        "id": "ulV1N1ALCrfm"
      },
      "execution_count": null,
      "outputs": []
    },
    {
      "cell_type": "code",
      "source": [
        "%%writefile main.cpp\n",
        "#include<iostream>\n",
        "#include<fstream>\n",
        "#include<string.h>\n",
        "int main(){\n",
        "  char texto_preg[300],texto_resp[300],*compara=NULL;\n",
        "  std::ifstream archivo(\"arch.txt\", std::ios::in);\n",
        "  if(!archivo){\n",
        "    std::cerr<<\"error al abrir el archivo\";\n",
        "    return 1;\n",
        "  }\n",
        "  std::cout<<\"* hola\"<<\"\\n\";\n",
        "  std::cout<<\"> \";\n",
        "  std::cin.getline(texto_resp,290);\n",
        "  while(texto_resp[0]!='\\0'){\n",
        "    archivo.seekg(0);\n",
        "    do{\n",
        "      archivo.getline(texto_preg,290);\n",
        "      compara=strstr(texto_resp,texto_preg);\n",
        "      if(archivo.eof()){\n",
        "        std::cout<<\"* no se contestar, dimelo por favor\"<<\"\\n\";\n",
        "        std::cin.getline(texto_preg,290);\n",
        "        archivo.close();\n",
        "        std::ofstream archivoS(\"arch.txt\",std::ios::app);\n",
        "        archivoS<<texto_resp<<\"\\n\";\n",
        "        archivoS<<texto_preg<<\"\\n\";\n",
        "        archivoS.close();\n",
        "        archivo.open(\"arch.txt\", std::ios::in);\n",
        "      }\n",
        "    }while(compara==NULL);\n",
        "      std::cout<<\"> \";\n",
        "      archivo.getline(texto_preg,290);\n",
        "      std::cout<<\"* \"<<texto_preg<<\"\\n\";\n",
        "      std::cout<<\"> \";\n",
        "      std::cin.getline(texto_resp,290);\n",
        "    }\n",
        "  archivo.close();\n",
        "  return 0;\n",
        "}"
      ],
      "metadata": {
        "colab": {
          "base_uri": "https://localhost:8080/"
        },
        "id": "t-_euwA4BeIs",
        "outputId": "cb40fdcd-7353-4722-9ed4-5dc94af151ae"
      },
      "execution_count": null,
      "outputs": [
        {
          "output_type": "stream",
          "name": "stdout",
          "text": [
            "Overwriting main.cpp\n"
          ]
        }
      ]
    },
    {
      "cell_type": "code",
      "source": [
        "#Ejecuatamos es Script\n",
        "%%script bash\n",
        "g++ main.cpp \n",
        "./a.out"
      ],
      "metadata": {
        "id": "l8m7zOj2EZXF",
        "outputId": "6d6ed87a-aedb-495f-d7f6-baf72ddbe291",
        "colab": {
          "base_uri": "https://localhost:8080/"
        }
      },
      "execution_count": null,
      "outputs": [
        {
          "output_type": "stream",
          "name": "stdout",
          "text": [
            "* hola\n",
            "> "
          ]
        }
      ]
    },
    {
      "cell_type": "code",
      "source": [
        "%%writefile main.cpp\n",
        "#include <iostream>\n",
        "\n",
        "using namespace std;\n",
        "const double EUR_PTS = 166;\n",
        "int main()\n",
        "{\n",
        "    cout<<\"Introduce la cantidad (en euros):\";\n",
        "    double euros;\n",
        "    cin>> euros;\n",
        "    double pesetas = euros * EUR_PTS;\n",
        "    cout << euros << \"Euros equivalen a \" << pesetas << \"Pts\" <<endl;\n",
        "\n",
        "    return 0;\n",
        "}\n"
      ],
      "metadata": {
        "id": "VxR7fNhM0XiQ",
        "outputId": "d1b08dc4-97c0-4949-f43c-8983bfc09fa7",
        "colab": {
          "base_uri": "https://localhost:8080/"
        }
      },
      "execution_count": 1,
      "outputs": [
        {
          "output_type": "stream",
          "name": "stdout",
          "text": [
            "Writing main.cpp\n"
          ]
        }
      ]
    },
    {
      "cell_type": "code",
      "source": [
        "#Ejecuatamos es Script\n",
        "%%script bash\n",
        "g++ main.cpp \n",
        "./a.out"
      ],
      "metadata": {
        "id": "O2rTuyNv0bHd",
        "outputId": "c1015c83-4df6-432f-ba15-eb50fd4457c8",
        "colab": {
          "base_uri": "https://localhost:8080/"
        }
      },
      "execution_count": 2,
      "outputs": [
        {
          "output_type": "stream",
          "name": "stdout",
          "text": [
            "Introduce la cantidad (en euros):4.65904e-310Euros equivalen a 7.73401e-308Pts\n"
          ]
        }
      ]
    },
    {
      "cell_type": "code",
      "source": [
        "%%writefile main.cpp\n",
        "#include <iostream>\n",
        "#include <iomanip>\n",
        "using namespace std ;\n",
        "int main()\n",
        "{bool x = true ;\n",
        "cout << boolalpha << x << endl; // escribe los booleanos como ’false’ o ’true’\n",
        "cout << dec << 27 << endl; // escribe 27 (decimal)\n",
        "cout << hex << 27 << endl; // escribe 1b (hexadecimal)\n",
        "cout << oct << 27 << endl; // escribe 33 (octal)\n",
        "cout << setprecision(2) << 4.567 <<'\\n'; // escribe 4.6\n",
        "cout << setw(5) << dec << 234 << endl; // escribe \" 234\"\n",
        "cout << setfill('#') << setw(5) << 234 << endl; // escribe \"##234\"\n",
        "}\n"
      ],
      "metadata": {
        "id": "0FiD_GOM3bfh",
        "outputId": "a6edf05f-9e58-4938-cb36-5fc457a39e14",
        "colab": {
          "base_uri": "https://localhost:8080/"
        }
      },
      "execution_count": 9,
      "outputs": [
        {
          "output_type": "stream",
          "name": "stdout",
          "text": [
            "Overwriting main.cpp\n"
          ]
        }
      ]
    },
    {
      "cell_type": "code",
      "source": [
        "#Ejecuatamos es Script\n",
        "%%script bash\n",
        "g++ main.cpp \n",
        "./a.out"
      ],
      "metadata": {
        "id": "rK0gcrWJ3et3",
        "outputId": "eed57196-6bb8-4426-b86d-5c7da24bdc66",
        "colab": {
          "base_uri": "https://localhost:8080/"
        }
      },
      "execution_count": 8,
      "outputs": [
        {
          "output_type": "stream",
          "name": "stdout",
          "text": [
            "true\n",
            "27\n",
            "1b\n",
            "33\n",
            "5\n",
            "  234\n",
            "##234\n"
          ]
        }
      ]
    }
  ]
}