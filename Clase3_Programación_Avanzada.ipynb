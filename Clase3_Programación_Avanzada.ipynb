{
  "nbformat": 4,
  "nbformat_minor": 0,
  "metadata": {
    "colab": {
      "provenance": [],
      "authorship_tag": "ABX9TyP7em3DBnaFlCSvtOFK/uYX",
      "include_colab_link": true
    },
    "kernelspec": {
      "name": "python3",
      "display_name": "Python 3"
    },
    "language_info": {
      "name": "python"
    }
  },
  "cells": [
    {
      "cell_type": "markdown",
      "metadata": {
        "id": "view-in-github",
        "colab_type": "text"
      },
      "source": [
        "<a href=\"https://colab.research.google.com/github/FrankAlvaradoR/c_plusplus/blob/main/Clase3_Programaci%C3%B3n_Avanzada.ipynb\" target=\"_parent\"><img src=\"https://colab.research.google.com/assets/colab-badge.svg\" alt=\"Open In Colab\"/></a>"
      ]
    },
    {
      "cell_type": "code",
      "execution_count": null,
      "metadata": {
        "colab": {
          "base_uri": "https://localhost:8080/"
        },
        "id": "2qJYxctj05XF",
        "outputId": "a7695bc1-f0f9-4c52-e468-e9ee935fc507"
      },
      "outputs": [
        {
          "output_type": "stream",
          "name": "stdout",
          "text": [
            "Overwriting main.cpp\n"
          ]
        }
      ],
      "source": [
        "%%writefile main.cpp\n",
        "#include <fstream>\n",
        "int main(){\n",
        "  std::ofstream archivo;\n",
        "  archivo.open(\"miarchivo.txt\");\n",
        "  archivo<<\"hola desde este archivo\\n\";\n",
        "  archivo<<\"ya he escrito algo\\n\";\n",
        "  archivo.close();\n",
        "}"
      ]
    },
    {
      "cell_type": "code",
      "source": [
        "#Ejecuatamos es Script\n",
        "%%script bash\n",
        "g++ main.cpp \n",
        "./a.out"
      ],
      "metadata": {
        "id": "hglESfIN1W0q"
      },
      "execution_count": null,
      "outputs": []
    },
    {
      "cell_type": "code",
      "source": [
        "%%writefile main.cpp\n",
        "#include <fstream>\n",
        "int main(){\n",
        "  std::ofstream archivo(\"miarchivo2.txt\");\n",
        "  archivo<<\"hola desde este archivo\\n\";\n",
        "  archivo<<\"ya he escrito algo\\n\";\n",
        "  archivo.close();\n",
        "}\n"
      ],
      "metadata": {
        "colab": {
          "base_uri": "https://localhost:8080/"
        },
        "id": "hMbxEI3w3eJ0",
        "outputId": "98882890-fddc-4e8a-8111-c23771aa24bf"
      },
      "execution_count": null,
      "outputs": [
        {
          "output_type": "stream",
          "name": "stdout",
          "text": [
            "Overwriting main.cpp\n"
          ]
        }
      ]
    },
    {
      "cell_type": "code",
      "source": [
        "#Ejecuatamos es Script\n",
        "%%script bash\n",
        "g++ main.cpp \n",
        "./a.out"
      ],
      "metadata": {
        "id": "AfLbk4vJm3B6"
      },
      "execution_count": null,
      "outputs": []
    },
    {
      "cell_type": "code",
      "source": [
        "%%writefile main.cpp\n",
        "#include<iostream>\n",
        "#include<fstream>\n",
        "int main(){\n",
        "  std::ofstream archivo(\"miarchivo2.txt\", std::ios::app);\n",
        "  archivo<<\"hola desde este archivo de nuevo\\n\";\n",
        "  archivo<<\"ya he escrito algo de nuevo\\n\";\n",
        "  archivo.close();\n",
        "}"
      ],
      "metadata": {
        "id": "OXyehQwq44hN",
        "outputId": "f5d048a7-fde4-4301-e172-e72b273a7a05",
        "colab": {
          "base_uri": "https://localhost:8080/"
        }
      },
      "execution_count": null,
      "outputs": [
        {
          "output_type": "stream",
          "name": "stdout",
          "text": [
            "Overwriting main.cpp\n"
          ]
        }
      ]
    },
    {
      "cell_type": "code",
      "source": [
        "#Ejecuatamos es Script\n",
        "%%script bash\n",
        "g++ main.cpp \n",
        "./a.out"
      ],
      "metadata": {
        "id": "tTJWy5_8m4Vy"
      },
      "execution_count": null,
      "outputs": []
    },
    {
      "cell_type": "code",
      "source": [
        "%%writefile main.cpp\n",
        "#include<iostream>\n",
        "#include<fstream>\n",
        "int main(){\n",
        "  char caracter;\n",
        "  std::ifstream archivo(\"miarchivo2.txt\", std::ios::in);\n",
        "  while(!archivo.eof()){\n",
        "  archivo.get(caracter);\n",
        "  std::cout<<caracter;\n",
        "  }\n",
        "archivo.close();\n",
        "}"
      ],
      "metadata": {
        "colab": {
          "base_uri": "https://localhost:8080/"
        },
        "id": "vEnKv74Cm0rV",
        "outputId": "c8876063-67cc-4753-c559-d0590ac0ad67"
      },
      "execution_count": null,
      "outputs": [
        {
          "output_type": "stream",
          "name": "stdout",
          "text": [
            "Overwriting main.cpp\n"
          ]
        }
      ]
    },
    {
      "cell_type": "code",
      "source": [
        "#Ejecuatamos es Script\n",
        "%%script bash\n",
        "g++ main.cpp \n",
        "./a.out"
      ],
      "metadata": {
        "colab": {
          "base_uri": "https://localhost:8080/"
        },
        "id": "vYRLOGQVnEoq",
        "outputId": "9555c55f-f31a-4253-f467-c2638aecd5f4"
      },
      "execution_count": null,
      "outputs": [
        {
          "output_type": "stream",
          "name": "stdout",
          "text": [
            "hola desde este archivo\n",
            "ya he escrito algo\n",
            "hola desde este archivo de nuevo\n",
            "ya he escrito algo de nuevo\n",
            "\n"
          ]
        }
      ]
    },
    {
      "cell_type": "code",
      "source": [
        "%%writefile main.cpp\n",
        "#include <fstream>\n",
        "int main(){\n",
        "  std::ofstream archivo;\n",
        "  archivo.open(\"arch.txt\");\n",
        "  archivo<<\"hola\\n\";\n",
        "  archivo<<\"como estas?\\n\";\n",
        "  archivo<<\"bien\\n\";\n",
        "  archivo<<\"que haces?\\n\";\n",
        "  archivo<<\"nada\\n\";\n",
        "  archivo<<\"pues ponte a hacer algo, a que te dedicas?\\n\";\n",
        "  archivo<<\"estudio\\n\";\n",
        "  archivo<<\"y que estudias?\\n\";\n",
        "  archivo<<\"Biomédica\\n\";\n",
        "  archivo<<\"ha que bueno!!, de donde eres?\\n\";\n",
        "  archivo<<\"de guadalajara\\n\";\n",
        "  archivo<<\"que interesante, hay algo que quieras preguntarme?\\n\";\n",
        "  archivo<<\"como te llamas?\\n\";\n",
        "  archivo<<\"acaso eso importa?\\n\";\n",
        "  archivo<<\"como te llamas\\n\";\n",
        "  archivo<<\"pregunta de nuevo\\n\";\n",
        "  archivo<<\" \\n\";\n",
        "  archivo.close();\n",
        "}"
      ],
      "metadata": {
        "id": "Soo7BAvPAgXS",
        "outputId": "26e01c4a-49b4-4792-de76-b9f14925eec6",
        "colab": {
          "base_uri": "https://localhost:8080/"
        }
      },
      "execution_count": 1,
      "outputs": [
        {
          "output_type": "stream",
          "name": "stdout",
          "text": [
            "Writing main.cpp\n"
          ]
        }
      ]
    },
    {
      "cell_type": "code",
      "source": [
        "%%writefile main.cpp\n",
        "#include<iostream>\n",
        "#include<fstream>\n",
        "#include<string>\n",
        "int main(){\n",
        "  char texto_preg[300],texto_resp[300],*compara=NULL;\n",
        "  std::ifstream archivo(\"arch.txt\", ios::in);\n",
        "  if(!archivo){\n",
        "    std::cerr<<\"error al abrir el archivo\";\n",
        "    return 1;\n",
        "  }\n",
        "  std::cout<<\"* hola\"<<\"\\n\"\";\n",
        "  std::cout<<\"> \";\n",
        "  std::cin.getline(texto_resp,290);\n",
        "  while(texto_resp[0]!='\\0'){\n",
        "    archivo.seekg(0);\n",
        "    do{\n",
        "      archivo.getline(texto_preg,290);\n",
        "      compara=strstr(texto_resp,texto_preg);\n",
        "      if(archivo.eof()){\n",
        "        std::cout<<\"* no se contestar, dimelo por favor\"<<endl;\n",
        "        std::cin.getline(texto_preg,290);\n",
        "        archivo.close();\n",
        "        std::ofstream archivoS(\"arch.txt\",ios::app);\n",
        "        archivoS<<texto_resp<<endl;\n",
        "        archivoS<<texto_preg<<endl;\n",
        "        archivoS.close();\n",
        "        archivo.open(\"arch.txt\", ios::in);\n",
        "      }\n",
        "    }while(compara==NULL);\n",
        "      std::cout<<\"> \";\n",
        "      archivo.getline(texto_preg,290);\n",
        "      std::cout<<\"* \"<<texto_preg<<endl;\n",
        "      std::cout<<\"> \";\n",
        "      std::cin.getline(texto_resp,290);\n",
        "    }\n",
        "  archivo.close();\n",
        "  return 0;\n",
        "}"
      ],
      "metadata": {
        "id": "t-_euwA4BeIs"
      },
      "execution_count": null,
      "outputs": []
    }
  ]
}