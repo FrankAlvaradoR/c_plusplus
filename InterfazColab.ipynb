{
  "nbformat": 4,
  "nbformat_minor": 0,
  "metadata": {
    "colab": {
      "provenance": [],
      "authorship_tag": "ABX9TyOsNpt3YuhvII13niNLkTk+",
      "include_colab_link": true
    },
    "kernelspec": {
      "name": "python3",
      "display_name": "Python 3"
    },
    "language_info": {
      "name": "python"
    }
  },
  "cells": [
    {
      "cell_type": "markdown",
      "metadata": {
        "id": "view-in-github",
        "colab_type": "text"
      },
      "source": [
        "<a href=\"https://colab.research.google.com/github/FrankAlvaradoR/c_plusplus/blob/main/InterfazColab.ipynb\" target=\"_parent\"><img src=\"https://colab.research.google.com/assets/colab-badge.svg\" alt=\"Open In Colab\"/></a>"
      ]
    },
    {
      "cell_type": "code",
      "execution_count": 10,
      "metadata": {
        "colab": {
          "base_uri": "https://localhost:8080/"
        },
        "id": "oUn6sO5aZ8q6",
        "outputId": "98f16e6d-33af-473b-f546-e1299d864bc5"
      },
      "outputs": [
        {
          "output_type": "stream",
          "name": "stdout",
          "text": [
            "Raul\n",
            "2nd option\n"
          ]
        }
      ],
      "source": [
        "#@title String fields\n",
        "text = 'Raul' #@param {type:\"string\"}\n",
        "dropdown = '2nd option' #@param[\"1st option\", \"2nd option\",\"3rd option\"] \n",
        "text_dropdown = '3rd option' #@param[\"1st option\", \"2nd option\",\"3rd option\"] {allow-input:true}\n",
        "\n",
        "print(text)\n",
        "print(dropdown)"
      ]
    },
    {
      "cell_type": "code",
      "source": [
        "#@title Raw fields\n",
        "raw_inputr = 230 #@param{type:\"raw\"}\n",
        "print(raw_inputr)"
      ],
      "metadata": {
        "colab": {
          "base_uri": "https://localhost:8080/"
        },
        "id": "HmyrZmJEcc5f",
        "outputId": "5cc56637-04f6-4cdc-96e8-8097c4752566"
      },
      "execution_count": 40,
      "outputs": [
        {
          "output_type": "stream",
          "name": "stdout",
          "text": [
            "230\n"
          ]
        }
      ]
    },
    {
      "cell_type": "code",
      "source": [
        "#@title Date fields\n",
        "date_inputr = \"2022-11-14\" #@param{type:\"date\"}\n",
        "print(date_inputr)"
      ],
      "metadata": {
        "colab": {
          "base_uri": "https://localhost:8080/"
        },
        "id": "Z707LZz7duUd",
        "outputId": "af0ad4da-239b-4897-fad9-d87ce54a54b9"
      },
      "execution_count": 43,
      "outputs": [
        {
          "output_type": "stream",
          "name": "stdout",
          "text": [
            "2022-11-14\n"
          ]
        }
      ]
    },
    {
      "cell_type": "code",
      "source": [
        "#@title Number fields\n",
        "num_in = 18.6 #@param{type:\"number\"}\n",
        "num_slider= -0.5 #@param {type:\"slider\", min:-1, max:1,step:0.1}\n",
        "\n",
        "print(num_in)\n",
        "\n",
        "print(num_slider)"
      ],
      "metadata": {
        "colab": {
          "base_uri": "https://localhost:8080/"
        },
        "id": "ik9-0sY0d7af",
        "outputId": "cf67dace-1333-4056-8bf3-7453bbe853a5"
      },
      "execution_count": 54,
      "outputs": [
        {
          "output_type": "stream",
          "name": "stdout",
          "text": [
            "18.6\n",
            "-0.5\n"
          ]
        }
      ]
    },
    {
      "cell_type": "code",
      "source": [
        "#@title Boolean fields\n",
        "boolean_checkbox = True #@param {type: \"boolean\"}\n",
        "boolean_drop = False #@param [\"False\",\"True\"]{type:\"raw\"}\n",
        "\n",
        "print(boolean_checkbox)\n",
        "print(boolean_drop)"
      ],
      "metadata": {
        "colab": {
          "base_uri": "https://localhost:8080/"
        },
        "id": "wYyMBhe4et2X",
        "outputId": "0a0f6bba-7cc9-425a-eaf0-7cc22b3c0262"
      },
      "execution_count": 58,
      "outputs": [
        {
          "output_type": "stream",
          "name": "stdout",
          "text": [
            "True\n",
            "False\n"
          ]
        }
      ]
    },
    {
      "cell_type": "code",
      "source": [
        "#@title Después de correr esta celda manualmente, se correrá de manera automatica cuando se cambien los valores. {run:\"auto\"}\n",
        "opcion2= \"B\" #@param [\"A\",\"B\",\"C\"]\n",
        "print (\"Seleccionaste la opción: \",opcion2)"
      ],
      "metadata": {
        "colab": {
          "base_uri": "https://localhost:8080/"
        },
        "id": "GQA8cg4afV7g",
        "outputId": "f04b886d-ea7d-4793-f182-702033a5778b"
      },
      "execution_count": 60,
      "outputs": [
        {
          "output_type": "stream",
          "name": "stdout",
          "text": [
            "Seleccionaste la opción:  B\n"
          ]
        }
      ]
    }
  ]
}